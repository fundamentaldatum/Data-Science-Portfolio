{
 "cells": [
  {
   "cell_type": "markdown",
   "metadata": {
    "id": "5Bxnkoxf270y"
   },
   "source": [
    "## Natural Language Processing: IT Department Support Ticket Classification System"
   ]
  },
  {
   "cell_type": "markdown",
   "metadata": {
    "id": "3PIXpOjx3DGc"
   },
   "source": [
    "### Context"
   ]
  },
  {
   "cell_type": "markdown",
   "metadata": {
    "id": "-chI7K4vyr3n"
   },
   "source": [
    "In today's dynamic business landscape, organizations are increasingly recognizing the pivotal role customer feedback plays in shaping the trajectory of their products and services. The ability to swiftly and effectively respond to customer input not only fosters enhanced customer experiences but also serves as a catalyst for growth, prolonged customer engagement, and the nurturing of lifetime value relationships. As a dedicated Product Manager or Product Analyst, staying attuned to the voice of your customers is not just a best practice; it's a strategic imperative.\n",
    "\n",
    "While your organization may be inundated with a wealth of customer-generated feedback and support tickets, your role entails much more than just processing these inputs. To make your efforts in managing customer experience and expectations truly impactful, you need a structured approach – a method that allows you to discern the most pressing issues, set priorities, and allocate resources judiciously. One of the most effective strategies at your disposal is to harness the power of Support Ticket Categorization.\n"
   ]
  },
  {
   "cell_type": "markdown",
   "metadata": {
    "id": "VZyyo5p53BTG"
   },
   "source": [
    "### Objective"
   ]
  },
  {
   "cell_type": "markdown",
   "metadata": {
    "id": "trDwCVXRy-rn"
   },
   "source": [
    "Develop an advanced support ticket categorization system that accurately classifies incoming support tickets, assigns relevant tags based on their content, implements timing mechanisms, and generates an initial draft response based on support ticket text sentiment for prioritizing tickets for prompt resolution.\n"
   ]
  },
  {
   "cell_type": "markdown",
   "metadata": {},
   "source": [
    "### Tools Used"
   ]
  },
  {
   "cell_type": "markdown",
   "metadata": {},
   "source": [
    "* **Large Language Models (LLMs)**\n",
    "* **Transformers**\n",
    "* **Prompt Engineering**\n",
    "* **Exploratory Data Analysis**\n",
    "* **Data Manipulation**\n",
    "* **Business Analysis & Recommendations**"
   ]
  },
  {
   "cell_type": "markdown",
   "metadata": {
    "id": "2bonUQGu23RK"
   },
   "source": [
    "## **Installing and Importing Necessary Libraries and Dependencies**"
   ]
  },
  {
   "cell_type": "code",
   "execution_count": 1,
   "metadata": {
    "id": "0x29JGHMqD74"
   },
   "outputs": [],
   "source": [
    "# Downloading the model from the Hugging Face model hub\n",
    "\n",
    "from huggingface_hub import hf_hub_download\n",
    "\n",
    "# Importing the Llama class from the llama_cpp module\n",
    "\n",
    "from llama_cpp import Llama\n",
    "\n",
    "# Importing the json module\n",
    "\n",
    "import json\n",
    "\n",
    "# Importing libraries for loading and manipulating data\n",
    "\n",
    "import pandas as pd\n",
    "import matplotlib.pyplot as plt\n",
    "import seaborn as sns\n",
    "\n",
    "# Importing for time computations\n",
    "\n",
    "import time"
   ]
  },
  {
   "cell_type": "markdown",
   "metadata": {
    "id": "uTpWESc53dL9"
   },
   "source": [
    "## Loading the Data"
   ]
  },
  {
   "cell_type": "code",
   "execution_count": 2,
   "metadata": {
    "id": "ksv9hSCR4BM_"
   },
   "outputs": [],
   "source": [
    "# Read the .csv file using pandas\n",
    "\n",
    "data = pd.read_csv(\"Support_Ticket_Text.csv\")"
   ]
  },
  {
   "cell_type": "markdown",
   "metadata": {
    "id": "j8qUEOcQ3j5q"
   },
   "source": [
    "## Data Overview"
   ]
  },
  {
   "cell_type": "markdown",
   "metadata": {
    "id": "V3YXcM8G3ljS"
   },
   "source": [
    "### Checking the First 5 Rows of the Data"
   ]
  },
  {
   "cell_type": "code",
   "execution_count": 3,
   "metadata": {
    "id": "bNOTBqaNVG4j"
   },
   "outputs": [
    {
     "data": {
      "text/html": [
       "<div>\n",
       "<style scoped>\n",
       "    .dataframe tbody tr th:only-of-type {\n",
       "        vertical-align: middle;\n",
       "    }\n",
       "\n",
       "    .dataframe tbody tr th {\n",
       "        vertical-align: top;\n",
       "    }\n",
       "\n",
       "    .dataframe thead th {\n",
       "        text-align: right;\n",
       "    }\n",
       "</style>\n",
       "<table border=\"1\" class=\"dataframe\">\n",
       "  <thead>\n",
       "    <tr style=\"text-align: right;\">\n",
       "      <th></th>\n",
       "      <th>support_tick_id</th>\n",
       "      <th>support_ticket_text</th>\n",
       "    </tr>\n",
       "  </thead>\n",
       "  <tbody>\n",
       "    <tr>\n",
       "      <th>0</th>\n",
       "      <td>ST2023-006</td>\n",
       "      <td>My internet connection has significantly slowe...</td>\n",
       "    </tr>\n",
       "    <tr>\n",
       "      <th>1</th>\n",
       "      <td>ST2023-007</td>\n",
       "      <td>Urgent help required! My laptop refuses to sta...</td>\n",
       "    </tr>\n",
       "    <tr>\n",
       "      <th>2</th>\n",
       "      <td>ST2023-008</td>\n",
       "      <td>I've accidentally deleted essential work docum...</td>\n",
       "    </tr>\n",
       "    <tr>\n",
       "      <th>3</th>\n",
       "      <td>ST2023-009</td>\n",
       "      <td>Despite being in close proximity to my Wi-Fi r...</td>\n",
       "    </tr>\n",
       "    <tr>\n",
       "      <th>4</th>\n",
       "      <td>ST2023-010</td>\n",
       "      <td>My smartphone battery is draining rapidly, eve...</td>\n",
       "    </tr>\n",
       "  </tbody>\n",
       "</table>\n",
       "</div>"
      ],
      "text/plain": [
       "  support_tick_id                                support_ticket_text\n",
       "0      ST2023-006  My internet connection has significantly slowe...\n",
       "1      ST2023-007  Urgent help required! My laptop refuses to sta...\n",
       "2      ST2023-008  I've accidentally deleted essential work docum...\n",
       "3      ST2023-009  Despite being in close proximity to my Wi-Fi r...\n",
       "4      ST2023-010  My smartphone battery is draining rapidly, eve..."
      ]
     },
     "execution_count": 3,
     "metadata": {},
     "output_type": "execute_result"
    }
   ],
   "source": [
    "# Print the first 5 rows of the dataset\n",
    "\n",
    "data.head()"
   ]
  },
  {
   "cell_type": "markdown",
   "metadata": {
    "id": "4UO3pFis3rDj"
   },
   "source": [
    "### Checking the Shape of the Data"
   ]
  },
  {
   "cell_type": "code",
   "execution_count": 4,
   "metadata": {
    "id": "4fLXRyDA4m3S"
   },
   "outputs": [
    {
     "name": "stdout",
     "output_type": "stream",
     "text": [
      "(21, 2)\n"
     ]
    }
   ],
   "source": [
    "# Check the shape of the data\n",
    "\n",
    "datashape = data.shape\n",
    "print(datashape)"
   ]
  },
  {
   "cell_type": "markdown",
   "metadata": {},
   "source": [
    "#### Observations:\n",
    "\n",
    "The dataset features **21 rows** and **2 columns**."
   ]
  },
  {
   "cell_type": "markdown",
   "metadata": {
    "id": "8i1EB_O-3tJp"
   },
   "source": [
    "### Checking for Missing Values in the Data"
   ]
  },
  {
   "cell_type": "code",
   "execution_count": 5,
   "metadata": {
    "id": "Rtx1knap5wRt"
   },
   "outputs": [
    {
     "name": "stdout",
     "output_type": "stream",
     "text": [
      "support_tick_id        0\n",
      "support_ticket_text    0\n",
      "dtype: int64\n"
     ]
    }
   ],
   "source": [
    "# Check for missing values in the data\n",
    "\n",
    "missing_values = data.isnull().sum()\n",
    "print(missing_values)"
   ]
  },
  {
   "cell_type": "markdown",
   "metadata": {},
   "source": [
    "#### Observations:\n",
    "\n",
    "The dataset features no **missing values**."
   ]
  },
  {
   "cell_type": "markdown",
   "metadata": {
    "id": "0qP5KTLo3OOC"
   },
   "source": [
    "## **Model Building**"
   ]
  },
  {
   "cell_type": "markdown",
   "metadata": {
    "id": "oWvf3R3An5K4"
   },
   "source": [
    "### Loading the Model"
   ]
  },
  {
   "cell_type": "code",
   "execution_count": 6,
   "metadata": {},
   "outputs": [],
   "source": [
    "# Define 'repo_id' and 'filename' for use with 'hf_hub_download'\n",
    "\n",
    "repo_id = \"TheBloke/Mistral-7B-Instruct-v0.2-GGUF\"\n",
    "filename = \"mistral-7b-instruct-v0.2.Q6_K.gguf\""
   ]
  },
  {
   "cell_type": "code",
   "execution_count": 7,
   "metadata": {},
   "outputs": [],
   "source": [
    "# Define model path for Hugging Face download function\n",
    "\n",
    "model_path = hf_hub_download(\n",
    "    repo_id,\n",
    "    filename)"
   ]
  },
  {
   "cell_type": "code",
   "execution_count": null,
   "metadata": {
    "id": "wI_T-0DWXRtD"
   },
   "outputs": [],
   "source": [
    "# Initialize an instance of the 'Llama' class with the downloaded model and adjust the context window of responses \n",
    "\n",
    "llm = Llama(\n",
    "    model_path=model_path,\n",
    "    n_ctx=2048)"
   ]
  },
  {
   "cell_type": "markdown",
   "metadata": {
    "id": "V8FxB-MBen3w"
   },
   "source": [
    "### Utility Functions"
   ]
  },
  {
   "cell_type": "code",
   "execution_count": 9,
   "metadata": {
    "id": "PibZOe6aegGe"
   },
   "outputs": [],
   "source": [
    "# Define a function to parse the JSON output from the model\n",
    "\n",
    "def extract_json_data(json_str):\n",
    "    try:\n",
    "        # Find the indices of the opening and closing curly braces\n",
    "        \n",
    "        json_start = json_str.find('{')\n",
    "        json_end = json_str.rfind('}')\n",
    "\n",
    "        if json_start != -1 and json_end != -1:\n",
    "            extracted_category = json_str[json_start:json_end + 1]  # Extract the JSON object\n",
    "            data_dict = json.loads(extracted_category)\n",
    "            return data_dict\n",
    "        else:\n",
    "            print(f\"Warning: JSON object not found in response: {json_str}\")\n",
    "            return {}\n",
    "    except json.JSONDecodeError as e:\n",
    "        print(f\"Error parsing JSON: {e}\")\n",
    "        return {}"
   ]
  },
  {
   "cell_type": "markdown",
   "metadata": {
    "id": "le80Djip27mc"
   },
   "source": [
    "## **Task 1: Ticket Categorization and Returning Structured Output**"
   ]
  },
  {
   "cell_type": "code",
   "execution_count": 10,
   "metadata": {
    "id": "2opKxTRX3Ksw"
   },
   "outputs": [],
   "source": [
    "# Create a copy of the dataset\n",
    "\n",
    "data_1 = data.copy()"
   ]
  },
  {
   "cell_type": "code",
   "execution_count": 11,
   "metadata": {},
   "outputs": [],
   "source": [
    "# Define the response function for support ticket categorization and output structuring\n",
    "\n",
    "def response_1(prompt, ticket):\n",
    "    model_output = llm(\n",
    "        f\"\"\"\n",
    "        Q: {prompt}\n",
    "        R: {ticket}\n",
    "        \"\"\",\n",
    "        max_tokens=200,\n",
    "        stop=[\"none\"],\n",
    "        temperature=0.2,\n",
    "        echo=False,\n",
    "    )\n",
    "\n",
    "    temp_output = model_output[\"choices\"][0][\"text\"]\n",
    "    \n",
    "    # Check if '{' is in temp_output\n",
    "    if '{' in temp_output:\n",
    "        final_output = temp_output[temp_output.index('{'):]\n",
    "    else:\n",
    "        # Handle the case where '{' is not found\n",
    "        final_output = \"{\"  # or provide a suitable default value or structure\n",
    "\n",
    "    return final_output"
   ]
  },
  {
   "cell_type": "code",
   "execution_count": 12,
   "metadata": {},
   "outputs": [],
   "source": [
    "# Define prompt for ticket categorization including JSON output formatting and examples\n",
    "\n",
    "prompt_1 = \"\"\"\n",
    "You are a support ticket classification system. Your task is to read the dataset \"data_1\" and focus on the 'support_ticket_text' cells. \n",
    "For each support ticket, provide the following details:\n",
    "\n",
    "1. **Category**: Determine the type of issue from these options: \"Hardware\", \"Software\", or \"Network\". Assign the most appropriate category from the 3 options to each support ticket.\n",
    "\n",
    "Do not output anything other than the category for each support ticket.\n",
    "\n",
    "Please format the output as a JSON object like this (without any extra commas or characters):\n",
    "\n",
    "{\n",
    "  \"Category\": \"<category>\"\n",
    "}\n",
    "\n",
    "Here are some examples:\n",
    "\n",
    "Support ticket: \"My laptop has struggled to run the latest version of Microsoft Excel.\"\n",
    "{\n",
    "  \"Category\": \"Software\"\n",
    "}\n",
    "\n",
    "Support ticket: \"My internet connection has significantly slowed down.\"\n",
    "{\n",
    "  \"Category\": \"Network\"\n",
    "}\n",
    "\n",
    "Support ticket: \"Urgent help required! My laptop refuses to start.\"\n",
    "{\n",
    "  \"Category\": \"Hardware\"\n",
    "}\n",
    "\n",
    "Do not forget to include the final curly bracket \"}\" for every JSON object output. Now, process the following support ticket:\n",
    "\n",
    "Support ticket: {ticket}\n",
    "\"\"\""
   ]
  },
  {
   "cell_type": "code",
   "execution_count": null,
   "metadata": {
    "id": "UinALS1l3XjW"
   },
   "outputs": [],
   "source": [
    "# Apply the response_1 function to each support ticket text in the DataFrame and store the model's response in a new column 'model_response'\n",
    "\n",
    "start = time.time()\n",
    "data_1['model_response'] = data_1['support_ticket_text'].apply(lambda x: response_1(prompt_1, x))\n",
    "end = time.time()"
   ]
  },
  {
   "cell_type": "code",
   "execution_count": 14,
   "metadata": {
    "id": "bo0YlHPXAJfP"
   },
   "outputs": [
    {
     "name": "stdout",
     "output_type": "stream",
     "text": [
      "Time Taken: 85.69428610801697 seconds\n"
     ]
    }
   ],
   "source": [
    "# Display total time taken for model to complete the task\n",
    "\n",
    "print(\"Time Taken:\",(end-start), \"seconds\")"
   ]
  },
  {
   "cell_type": "code",
   "execution_count": 15,
   "metadata": {
    "id": "pHn-R-fx31Uq"
   },
   "outputs": [
    {
     "data": {
      "text/html": [
       "<div>\n",
       "<style scoped>\n",
       "    .dataframe tbody tr th:only-of-type {\n",
       "        vertical-align: middle;\n",
       "    }\n",
       "\n",
       "    .dataframe tbody tr th {\n",
       "        vertical-align: top;\n",
       "    }\n",
       "\n",
       "    .dataframe thead th {\n",
       "        text-align: right;\n",
       "    }\n",
       "</style>\n",
       "<table border=\"1\" class=\"dataframe\">\n",
       "  <thead>\n",
       "    <tr style=\"text-align: right;\">\n",
       "      <th></th>\n",
       "      <th>support_tick_id</th>\n",
       "      <th>support_ticket_text</th>\n",
       "      <th>model_response</th>\n",
       "    </tr>\n",
       "  </thead>\n",
       "  <tbody>\n",
       "    <tr>\n",
       "      <th>0</th>\n",
       "      <td>ST2023-006</td>\n",
       "      <td>My internet connection has significantly slowe...</td>\n",
       "      <td>{\\n          \"Category\": \"Network\"\\n        }</td>\n",
       "    </tr>\n",
       "    <tr>\n",
       "      <th>1</th>\n",
       "      <td>ST2023-007</td>\n",
       "      <td>Urgent help required! My laptop refuses to sta...</td>\n",
       "      <td>{\\n          \"Category\": \"Hardware\"\\n        }</td>\n",
       "    </tr>\n",
       "    <tr>\n",
       "      <th>2</th>\n",
       "      <td>ST2023-008</td>\n",
       "      <td>I've accidentally deleted essential work docum...</td>\n",
       "      <td>{\\n          \"Category\": \"Software\"\\n        }</td>\n",
       "    </tr>\n",
       "    <tr>\n",
       "      <th>3</th>\n",
       "      <td>ST2023-009</td>\n",
       "      <td>Despite being in close proximity to my Wi-Fi r...</td>\n",
       "      <td>{\\n          \"Category\": \"Network\"\\n        }</td>\n",
       "    </tr>\n",
       "    <tr>\n",
       "      <th>4</th>\n",
       "      <td>ST2023-010</td>\n",
       "      <td>My smartphone battery is draining rapidly, eve...</td>\n",
       "      <td>{\\n          \"Category\": \"Hardware\"\\n        }</td>\n",
       "    </tr>\n",
       "  </tbody>\n",
       "</table>\n",
       "</div>"
      ],
      "text/plain": [
       "  support_tick_id                                support_ticket_text  \\\n",
       "0      ST2023-006  My internet connection has significantly slowe...   \n",
       "1      ST2023-007  Urgent help required! My laptop refuses to sta...   \n",
       "2      ST2023-008  I've accidentally deleted essential work docum...   \n",
       "3      ST2023-009  Despite being in close proximity to my Wi-Fi r...   \n",
       "4      ST2023-010  My smartphone battery is draining rapidly, eve...   \n",
       "\n",
       "                                   model_response  \n",
       "0   {\\n          \"Category\": \"Network\"\\n        }  \n",
       "1  {\\n          \"Category\": \"Hardware\"\\n        }  \n",
       "2  {\\n          \"Category\": \"Software\"\\n        }  \n",
       "3   {\\n          \"Category\": \"Network\"\\n        }  \n",
       "4  {\\n          \"Category\": \"Hardware\"\\n        }  "
      ]
     },
     "execution_count": 15,
     "metadata": {},
     "output_type": "execute_result"
    }
   ],
   "source": [
    "# Check the first five rows of the data to confirm whether the model_response column has been added\n",
    "\n",
    "data_1.head()"
   ]
  },
  {
   "cell_type": "code",
   "execution_count": 16,
   "metadata": {
    "id": "BbHTOL494CkV"
   },
   "outputs": [
    {
     "name": "stdout",
     "output_type": "stream",
     "text": [
      "I've accidentally deleted essential work documents, causing substantial data loss. I understand the need to avoid further actions on my device. Can you please prioritize the data recovery process and guide me through it?\n"
     ]
    }
   ],
   "source": [
    "# Print support ticket text based on value 'i' for location of ticket within rows of dataset\n",
    "\n",
    "i = 2\n",
    "print(data_1.loc[i, 'support_ticket_text'])"
   ]
  },
  {
   "cell_type": "code",
   "execution_count": 17,
   "metadata": {
    "id": "NB9h31T54H4F"
   },
   "outputs": [
    {
     "name": "stdout",
     "output_type": "stream",
     "text": [
      "{\n",
      "          \"Category\": \"Software\"\n",
      "        }\n"
     ]
    }
   ],
   "source": [
    "# Print model response for corresponding support ticket at value 'i'\n",
    "\n",
    "print(data_1.loc[i, 'model_response'])"
   ]
  },
  {
   "cell_type": "markdown",
   "metadata": {},
   "source": [
    "#### Observations:\n",
    "\n",
    "Model response displays a correct classification of the support ticket category."
   ]
  },
  {
   "cell_type": "code",
   "execution_count": 18,
   "metadata": {
    "id": "PLjf4Kgu41oJ"
   },
   "outputs": [
    {
     "data": {
      "text/plain": [
       "0     {'Category': 'Network'}\n",
       "1    {'Category': 'Hardware'}\n",
       "2    {'Category': 'Software'}\n",
       "3     {'Category': 'Network'}\n",
       "4    {'Category': 'Hardware'}\n",
       "Name: model_response_parsed, dtype: object"
      ]
     },
     "execution_count": 18,
     "metadata": {},
     "output_type": "execute_result"
    }
   ],
   "source": [
    "# Apply 'extract_json_data' function to 'model_response' column and print first 5 rows to ensure new column 'model_response_parsed' is formatted correctly \n",
    "\n",
    "data_1['model_response_parsed'] = data_1['model_response'].apply(extract_json_data)\n",
    "data_1['model_response_parsed'].head()"
   ]
  },
  {
   "cell_type": "code",
   "execution_count": 19,
   "metadata": {
    "id": "OXi7nOzyeGdK"
   },
   "outputs": [
    {
     "data": {
      "text/plain": [
       "model_response_parsed\n",
       "{'Category': 'Hardware'}    12\n",
       "{'Category': 'Network'}      5\n",
       "{'Category': 'Software'}     4\n",
       "Name: count, dtype: int64"
      ]
     },
     "execution_count": 19,
     "metadata": {},
     "output_type": "execute_result"
    }
   ],
   "source": [
    "# Display value counts for unique category values in 'model_response_parsed' column\n",
    "\n",
    "data_1['model_response_parsed'].value_counts()"
   ]
  },
  {
   "cell_type": "markdown",
   "metadata": {},
   "source": [
    "#### Observations:\n",
    "\n",
    "Model response indicates **12 tickets with hardware issues**, **5 tickets with network issues**, and **4 tickets with software issues**."
   ]
  },
  {
   "cell_type": "code",
   "execution_count": 20,
   "metadata": {
    "id": "pnivjGUcUONC"
   },
   "outputs": [
    {
     "data": {
      "text/html": [
       "<div>\n",
       "<style scoped>\n",
       "    .dataframe tbody tr th:only-of-type {\n",
       "        vertical-align: middle;\n",
       "    }\n",
       "\n",
       "    .dataframe tbody tr th {\n",
       "        vertical-align: top;\n",
       "    }\n",
       "\n",
       "    .dataframe thead th {\n",
       "        text-align: right;\n",
       "    }\n",
       "</style>\n",
       "<table border=\"1\" class=\"dataframe\">\n",
       "  <thead>\n",
       "    <tr style=\"text-align: right;\">\n",
       "      <th></th>\n",
       "      <th>Category</th>\n",
       "    </tr>\n",
       "  </thead>\n",
       "  <tbody>\n",
       "    <tr>\n",
       "      <th>0</th>\n",
       "      <td>Network</td>\n",
       "    </tr>\n",
       "    <tr>\n",
       "      <th>1</th>\n",
       "      <td>Hardware</td>\n",
       "    </tr>\n",
       "    <tr>\n",
       "      <th>2</th>\n",
       "      <td>Software</td>\n",
       "    </tr>\n",
       "    <tr>\n",
       "      <th>3</th>\n",
       "      <td>Network</td>\n",
       "    </tr>\n",
       "    <tr>\n",
       "      <th>4</th>\n",
       "      <td>Hardware</td>\n",
       "    </tr>\n",
       "  </tbody>\n",
       "</table>\n",
       "</div>"
      ],
      "text/plain": [
       "   Category\n",
       "0   Network\n",
       "1  Hardware\n",
       "2  Software\n",
       "3   Network\n",
       "4  Hardware"
      ]
     },
     "execution_count": 20,
     "metadata": {},
     "output_type": "execute_result"
    }
   ],
   "source": [
    "# Normalize the 'model_response_parsed' column using the 'json_normalize' function in pandas and print first 5 rows to ensure correct formatting\n",
    "\n",
    "model_response_parsed_df_1 = pd.json_normalize(data_1['model_response_parsed'])\n",
    "model_response_parsed_df_1.head()"
   ]
  },
  {
   "cell_type": "code",
   "execution_count": 21,
   "metadata": {
    "id": "V67nKkfUUd1c"
   },
   "outputs": [
    {
     "data": {
      "text/html": [
       "<div>\n",
       "<style scoped>\n",
       "    .dataframe tbody tr th:only-of-type {\n",
       "        vertical-align: middle;\n",
       "    }\n",
       "\n",
       "    .dataframe tbody tr th {\n",
       "        vertical-align: top;\n",
       "    }\n",
       "\n",
       "    .dataframe thead th {\n",
       "        text-align: right;\n",
       "    }\n",
       "</style>\n",
       "<table border=\"1\" class=\"dataframe\">\n",
       "  <thead>\n",
       "    <tr style=\"text-align: right;\">\n",
       "      <th></th>\n",
       "      <th>support_tick_id</th>\n",
       "      <th>support_ticket_text</th>\n",
       "      <th>model_response</th>\n",
       "      <th>model_response_parsed</th>\n",
       "      <th>Category</th>\n",
       "    </tr>\n",
       "  </thead>\n",
       "  <tbody>\n",
       "    <tr>\n",
       "      <th>0</th>\n",
       "      <td>ST2023-006</td>\n",
       "      <td>My internet connection has significantly slowe...</td>\n",
       "      <td>{\\n          \"Category\": \"Network\"\\n        }</td>\n",
       "      <td>{'Category': 'Network'}</td>\n",
       "      <td>Network</td>\n",
       "    </tr>\n",
       "    <tr>\n",
       "      <th>1</th>\n",
       "      <td>ST2023-007</td>\n",
       "      <td>Urgent help required! My laptop refuses to sta...</td>\n",
       "      <td>{\\n          \"Category\": \"Hardware\"\\n        }</td>\n",
       "      <td>{'Category': 'Hardware'}</td>\n",
       "      <td>Hardware</td>\n",
       "    </tr>\n",
       "    <tr>\n",
       "      <th>2</th>\n",
       "      <td>ST2023-008</td>\n",
       "      <td>I've accidentally deleted essential work docum...</td>\n",
       "      <td>{\\n          \"Category\": \"Software\"\\n        }</td>\n",
       "      <td>{'Category': 'Software'}</td>\n",
       "      <td>Software</td>\n",
       "    </tr>\n",
       "    <tr>\n",
       "      <th>3</th>\n",
       "      <td>ST2023-009</td>\n",
       "      <td>Despite being in close proximity to my Wi-Fi r...</td>\n",
       "      <td>{\\n          \"Category\": \"Network\"\\n        }</td>\n",
       "      <td>{'Category': 'Network'}</td>\n",
       "      <td>Network</td>\n",
       "    </tr>\n",
       "    <tr>\n",
       "      <th>4</th>\n",
       "      <td>ST2023-010</td>\n",
       "      <td>My smartphone battery is draining rapidly, eve...</td>\n",
       "      <td>{\\n          \"Category\": \"Hardware\"\\n        }</td>\n",
       "      <td>{'Category': 'Hardware'}</td>\n",
       "      <td>Hardware</td>\n",
       "    </tr>\n",
       "  </tbody>\n",
       "</table>\n",
       "</div>"
      ],
      "text/plain": [
       "  support_tick_id                                support_ticket_text  \\\n",
       "0      ST2023-006  My internet connection has significantly slowe...   \n",
       "1      ST2023-007  Urgent help required! My laptop refuses to sta...   \n",
       "2      ST2023-008  I've accidentally deleted essential work docum...   \n",
       "3      ST2023-009  Despite being in close proximity to my Wi-Fi r...   \n",
       "4      ST2023-010  My smartphone battery is draining rapidly, eve...   \n",
       "\n",
       "                                   model_response     model_response_parsed  \\\n",
       "0   {\\n          \"Category\": \"Network\"\\n        }   {'Category': 'Network'}   \n",
       "1  {\\n          \"Category\": \"Hardware\"\\n        }  {'Category': 'Hardware'}   \n",
       "2  {\\n          \"Category\": \"Software\"\\n        }  {'Category': 'Software'}   \n",
       "3   {\\n          \"Category\": \"Network\"\\n        }   {'Category': 'Network'}   \n",
       "4  {\\n          \"Category\": \"Hardware\"\\n        }  {'Category': 'Hardware'}   \n",
       "\n",
       "   Category  \n",
       "0   Network  \n",
       "1  Hardware  \n",
       "2  Software  \n",
       "3   Network  \n",
       "4  Hardware  "
      ]
     },
     "execution_count": 21,
     "metadata": {},
     "output_type": "execute_result"
    }
   ],
   "source": [
    "# Concatinating 'data_1' and 'model_response_parsed_df_1' and printing the first 5 rows of the concatonated dataset\n",
    "\n",
    "data_with_parsed_model_output_1 = pd.concat([data_1, model_response_parsed_df_1], axis=1)\n",
    "data_with_parsed_model_output_1.head()"
   ]
  },
  {
   "cell_type": "code",
   "execution_count": 22,
   "metadata": {
    "id": "dHxzez70U0Dv"
   },
   "outputs": [
    {
     "data": {
      "text/html": [
       "<div>\n",
       "<style scoped>\n",
       "    .dataframe tbody tr th:only-of-type {\n",
       "        vertical-align: middle;\n",
       "    }\n",
       "\n",
       "    .dataframe tbody tr th {\n",
       "        vertical-align: top;\n",
       "    }\n",
       "\n",
       "    .dataframe thead th {\n",
       "        text-align: right;\n",
       "    }\n",
       "</style>\n",
       "<table border=\"1\" class=\"dataframe\">\n",
       "  <thead>\n",
       "    <tr style=\"text-align: right;\">\n",
       "      <th></th>\n",
       "      <th>support_tick_id</th>\n",
       "      <th>support_ticket_text</th>\n",
       "      <th>Category</th>\n",
       "    </tr>\n",
       "  </thead>\n",
       "  <tbody>\n",
       "    <tr>\n",
       "      <th>0</th>\n",
       "      <td>ST2023-006</td>\n",
       "      <td>My internet connection has significantly slowe...</td>\n",
       "      <td>Network</td>\n",
       "    </tr>\n",
       "    <tr>\n",
       "      <th>1</th>\n",
       "      <td>ST2023-007</td>\n",
       "      <td>Urgent help required! My laptop refuses to sta...</td>\n",
       "      <td>Hardware</td>\n",
       "    </tr>\n",
       "    <tr>\n",
       "      <th>2</th>\n",
       "      <td>ST2023-008</td>\n",
       "      <td>I've accidentally deleted essential work docum...</td>\n",
       "      <td>Software</td>\n",
       "    </tr>\n",
       "    <tr>\n",
       "      <th>3</th>\n",
       "      <td>ST2023-009</td>\n",
       "      <td>Despite being in close proximity to my Wi-Fi r...</td>\n",
       "      <td>Network</td>\n",
       "    </tr>\n",
       "    <tr>\n",
       "      <th>4</th>\n",
       "      <td>ST2023-010</td>\n",
       "      <td>My smartphone battery is draining rapidly, eve...</td>\n",
       "      <td>Hardware</td>\n",
       "    </tr>\n",
       "  </tbody>\n",
       "</table>\n",
       "</div>"
      ],
      "text/plain": [
       "  support_tick_id                                support_ticket_text  Category\n",
       "0      ST2023-006  My internet connection has significantly slowe...   Network\n",
       "1      ST2023-007  Urgent help required! My laptop refuses to sta...  Hardware\n",
       "2      ST2023-008  I've accidentally deleted essential work docum...  Software\n",
       "3      ST2023-009  Despite being in close proximity to my Wi-Fi r...   Network\n",
       "4      ST2023-010  My smartphone battery is draining rapidly, eve...  Hardware"
      ]
     },
     "execution_count": 22,
     "metadata": {},
     "output_type": "execute_result"
    }
   ],
   "source": [
    "# Dropping 'model_response' and 'model_response_parsed' columns and printing the first 5 rows of the resulting dataset\n",
    "\n",
    "final_data_1 = data_with_parsed_model_output_1.drop(['model_response','model_response_parsed'], axis=1)\n",
    "final_data_1.head()"
   ]
  },
  {
   "cell_type": "code",
   "execution_count": 23,
   "metadata": {},
   "outputs": [
    {
     "data": {
      "text/html": [
       "<div>\n",
       "<style scoped>\n",
       "    .dataframe tbody tr th:only-of-type {\n",
       "        vertical-align: middle;\n",
       "    }\n",
       "\n",
       "    .dataframe tbody tr th {\n",
       "        vertical-align: top;\n",
       "    }\n",
       "\n",
       "    .dataframe thead th {\n",
       "        text-align: right;\n",
       "    }\n",
       "</style>\n",
       "<table border=\"1\" class=\"dataframe\">\n",
       "  <thead>\n",
       "    <tr style=\"text-align: right;\">\n",
       "      <th></th>\n",
       "      <th>support_tick_id</th>\n",
       "      <th>support_ticket_text</th>\n",
       "      <th>Category</th>\n",
       "    </tr>\n",
       "  </thead>\n",
       "  <tbody>\n",
       "    <tr>\n",
       "      <th>0</th>\n",
       "      <td>ST2023-006</td>\n",
       "      <td>My internet connection has significantly slowe...</td>\n",
       "      <td>Network</td>\n",
       "    </tr>\n",
       "    <tr>\n",
       "      <th>1</th>\n",
       "      <td>ST2023-007</td>\n",
       "      <td>Urgent help required! My laptop refuses to sta...</td>\n",
       "      <td>Hardware</td>\n",
       "    </tr>\n",
       "    <tr>\n",
       "      <th>2</th>\n",
       "      <td>ST2023-008</td>\n",
       "      <td>I've accidentally deleted essential work docum...</td>\n",
       "      <td>Software</td>\n",
       "    </tr>\n",
       "    <tr>\n",
       "      <th>3</th>\n",
       "      <td>ST2023-009</td>\n",
       "      <td>Despite being in close proximity to my Wi-Fi r...</td>\n",
       "      <td>Network</td>\n",
       "    </tr>\n",
       "    <tr>\n",
       "      <th>4</th>\n",
       "      <td>ST2023-010</td>\n",
       "      <td>My smartphone battery is draining rapidly, eve...</td>\n",
       "      <td>Hardware</td>\n",
       "    </tr>\n",
       "    <tr>\n",
       "      <th>5</th>\n",
       "      <td>ST2023-011</td>\n",
       "      <td>I'm locked out of my online banking account an...</td>\n",
       "      <td>Software</td>\n",
       "    </tr>\n",
       "    <tr>\n",
       "      <th>6</th>\n",
       "      <td>ST2023-012</td>\n",
       "      <td>My computer's performance is sluggish, severel...</td>\n",
       "      <td>Software</td>\n",
       "    </tr>\n",
       "    <tr>\n",
       "      <th>7</th>\n",
       "      <td>ST2023-013</td>\n",
       "      <td>I'm experiencing a recurring blue screen error...</td>\n",
       "      <td>Hardware</td>\n",
       "    </tr>\n",
       "    <tr>\n",
       "      <th>8</th>\n",
       "      <td>ST2023-014</td>\n",
       "      <td>My external hard drive isn't being recognized ...</td>\n",
       "      <td>Hardware</td>\n",
       "    </tr>\n",
       "    <tr>\n",
       "      <th>9</th>\n",
       "      <td>ST2023-015</td>\n",
       "      <td>The graphics card in my gaming laptop seems to...</td>\n",
       "      <td>Hardware</td>\n",
       "    </tr>\n",
       "    <tr>\n",
       "      <th>10</th>\n",
       "      <td>ST2023-016</td>\n",
       "      <td>I accidentally formatted my USB drive with cri...</td>\n",
       "      <td>Hardware</td>\n",
       "    </tr>\n",
       "    <tr>\n",
       "      <th>11</th>\n",
       "      <td>ST2023-017</td>\n",
       "      <td>My computer's screen has gone black, and I can...</td>\n",
       "      <td>Hardware</td>\n",
       "    </tr>\n",
       "    <tr>\n",
       "      <th>12</th>\n",
       "      <td>ST2023-018</td>\n",
       "      <td>I accidentally spilled water on my laptop, and...</td>\n",
       "      <td>Hardware</td>\n",
       "    </tr>\n",
       "    <tr>\n",
       "      <th>13</th>\n",
       "      <td>ST2023-019</td>\n",
       "      <td>My USB flash drive is physically damaged, and ...</td>\n",
       "      <td>Hardware</td>\n",
       "    </tr>\n",
       "    <tr>\n",
       "      <th>14</th>\n",
       "      <td>ST2023-020</td>\n",
       "      <td>The touchpad on my laptop has stopped working,...</td>\n",
       "      <td>Hardware</td>\n",
       "    </tr>\n",
       "    <tr>\n",
       "      <th>15</th>\n",
       "      <td>ST2023-021</td>\n",
       "      <td>My internet connection is frequently dropping,...</td>\n",
       "      <td>Network</td>\n",
       "    </tr>\n",
       "    <tr>\n",
       "      <th>16</th>\n",
       "      <td>ST2023-022</td>\n",
       "      <td>Wi-Fi is inconsistent despite proximity to the...</td>\n",
       "      <td>Network</td>\n",
       "    </tr>\n",
       "    <tr>\n",
       "      <th>17</th>\n",
       "      <td>ST2023-023</td>\n",
       "      <td>I accidentally formatted my USB drive with cru...</td>\n",
       "      <td>Hardware</td>\n",
       "    </tr>\n",
       "    <tr>\n",
       "      <th>18</th>\n",
       "      <td>ST2023-024</td>\n",
       "      <td>My external hard drive isn't being recognized,...</td>\n",
       "      <td>Hardware</td>\n",
       "    </tr>\n",
       "    <tr>\n",
       "      <th>19</th>\n",
       "      <td>ST2023-025</td>\n",
       "      <td>I am experiencing a critical problem with my i...</td>\n",
       "      <td>Network</td>\n",
       "    </tr>\n",
       "    <tr>\n",
       "      <th>20</th>\n",
       "      <td>ST2023-026</td>\n",
       "      <td>I hope this message finds you well. I am writi...</td>\n",
       "      <td>Software</td>\n",
       "    </tr>\n",
       "  </tbody>\n",
       "</table>\n",
       "</div>"
      ],
      "text/plain": [
       "   support_tick_id                                support_ticket_text  \\\n",
       "0       ST2023-006  My internet connection has significantly slowe...   \n",
       "1       ST2023-007  Urgent help required! My laptop refuses to sta...   \n",
       "2       ST2023-008  I've accidentally deleted essential work docum...   \n",
       "3       ST2023-009  Despite being in close proximity to my Wi-Fi r...   \n",
       "4       ST2023-010  My smartphone battery is draining rapidly, eve...   \n",
       "5       ST2023-011  I'm locked out of my online banking account an...   \n",
       "6       ST2023-012  My computer's performance is sluggish, severel...   \n",
       "7       ST2023-013  I'm experiencing a recurring blue screen error...   \n",
       "8       ST2023-014  My external hard drive isn't being recognized ...   \n",
       "9       ST2023-015  The graphics card in my gaming laptop seems to...   \n",
       "10      ST2023-016  I accidentally formatted my USB drive with cri...   \n",
       "11      ST2023-017  My computer's screen has gone black, and I can...   \n",
       "12      ST2023-018  I accidentally spilled water on my laptop, and...   \n",
       "13      ST2023-019  My USB flash drive is physically damaged, and ...   \n",
       "14      ST2023-020  The touchpad on my laptop has stopped working,...   \n",
       "15      ST2023-021  My internet connection is frequently dropping,...   \n",
       "16      ST2023-022  Wi-Fi is inconsistent despite proximity to the...   \n",
       "17      ST2023-023  I accidentally formatted my USB drive with cru...   \n",
       "18      ST2023-024  My external hard drive isn't being recognized,...   \n",
       "19      ST2023-025  I am experiencing a critical problem with my i...   \n",
       "20      ST2023-026  I hope this message finds you well. I am writi...   \n",
       "\n",
       "    Category  \n",
       "0    Network  \n",
       "1   Hardware  \n",
       "2   Software  \n",
       "3    Network  \n",
       "4   Hardware  \n",
       "5   Software  \n",
       "6   Software  \n",
       "7   Hardware  \n",
       "8   Hardware  \n",
       "9   Hardware  \n",
       "10  Hardware  \n",
       "11  Hardware  \n",
       "12  Hardware  \n",
       "13  Hardware  \n",
       "14  Hardware  \n",
       "15   Network  \n",
       "16   Network  \n",
       "17  Hardware  \n",
       "18  Hardware  \n",
       "19   Network  \n",
       "20  Software  "
      ]
     },
     "execution_count": 23,
     "metadata": {},
     "output_type": "execute_result"
    }
   ],
   "source": [
    "# Print 'final_data_1' dataset\n",
    "\n",
    "final_data_1"
   ]
  },
  {
   "cell_type": "markdown",
   "metadata": {},
   "source": [
    "#### Observations:\n",
    "\n",
    "Model categorization appears uniform and case-correct."
   ]
  },
  {
   "cell_type": "markdown",
   "metadata": {
    "id": "z795llV0elBQ"
   },
   "source": [
    "## **Task 2: Creating Tags**"
   ]
  },
  {
   "cell_type": "code",
   "execution_count": 24,
   "metadata": {
    "id": "wWlFOeCFf5Zx"
   },
   "outputs": [],
   "source": [
    "# Create a second copy of the data\n",
    "\n",
    "data_2 = data.copy()"
   ]
  },
  {
   "cell_type": "code",
   "execution_count": 25,
   "metadata": {
    "id": "WSflU6-CBk29"
   },
   "outputs": [],
   "source": [
    "# Define the response function for creating tags for each support ticket iterating upon the function 'response_1'\n",
    "\n",
    "def response_2(prompt, ticket):\n",
    "    model_output = llm(\n",
    "      f\"\"\"\n",
    "      Q: {prompt}\n",
    "      R: {ticket}\n",
    "      \"\"\",\n",
    "      max_tokens=200,\n",
    "      stop=[\"none\"],\n",
    "      temperature=0.2,\n",
    "      echo=False,\n",
    "    )\n",
    "\n",
    "    temp_output = model_output[\"choices\"][0][\"text\"]\n",
    "    final_output = temp_output[temp_output.index('{'):]\n",
    "\n",
    "    return final_output"
   ]
  },
  {
   "cell_type": "code",
   "execution_count": 26,
   "metadata": {},
   "outputs": [],
   "source": [
    "# Define prompt for ticket categorization adding additional instructions regarding tag creation for each support ticket\n",
    "\n",
    "prompt_2 = \"\"\"\n",
    "You are a support ticket classification system. Your task is to read the dataset \"data_2\" and focus on the 'support_ticket_text' cells. \n",
    "For each support ticket, provide the following details:\n",
    "\n",
    "1. **Category**: Determine the type of issue from these options: \"Hardware\", \"Software\", or \"Network\". Assign the most appropriate category from the 3 options to each support ticket. Do not create a subcategory field.\n",
    "2. **Tags**: Extract relevant terms from the support ticket text and assign the single most important term as a tag for each support ticket.\n",
    "\n",
    "Do not output anything other than the category and tags for each support ticket.\n",
    "\n",
    "Please format the output as a JSON object like this (without any extra commas or characters):\n",
    "\n",
    "{\n",
    "  \"Category\": \"<category>\",\n",
    "  \"Tags\": \"<tags>\"\n",
    "}\n",
    "\n",
    "Here are some examples:\n",
    "\n",
    "Support ticket: \"My laptop has struggled to run the latest version of Microsoft Excel.\"\n",
    "{\n",
    "  \"Category\": \"Software\",\n",
    "  \"Tags\": \"Excel\"\n",
    "}\n",
    "\n",
    "Support ticket: \"My internet connection has significantly slowed down.\"\n",
    "{\n",
    "  \"Category\": \"Network\",\n",
    "  \"Tags\": \"Internet\"\n",
    "}\n",
    "\n",
    "Support ticket: \"Urgent help required! My laptop refuses to start.\"\n",
    "{\n",
    "  \"Category\": \"Hardware\",\n",
    "  \"Tags\": \"Laptop\"\n",
    "}\n",
    "\n",
    "Do not forget to include the final curly bracket \"}\" for every JSON object output. Now, process the following support ticket:\n",
    "\n",
    "Support ticket: {ticket}\n",
    "\"\"\""
   ]
  },
  {
   "cell_type": "code",
   "execution_count": null,
   "metadata": {},
   "outputs": [],
   "source": [
    "# Apply the response_2 function to each support ticket text in the DataFrame and store the model's response in a new column 'model_response'\n",
    "\n",
    "start = time.time()\n",
    "data_2['model_response'] = data_2['support_ticket_text'].apply(lambda x: response_2(prompt_2, x))\n",
    "end = time.time()"
   ]
  },
  {
   "cell_type": "code",
   "execution_count": 28,
   "metadata": {
    "id": "_GeduRusM1i3"
   },
   "outputs": [
    {
     "name": "stdout",
     "output_type": "stream",
     "text": [
      "Time Taken: 94.84734606742859 seconds\n"
     ]
    }
   ],
   "source": [
    "# Display total time taken for model to complete the task\n",
    "\n",
    "print(\"Time Taken:\",(end-start), \"seconds\")"
   ]
  },
  {
   "cell_type": "code",
   "execution_count": 29,
   "metadata": {
    "id": "y023-XNxgpYd"
   },
   "outputs": [
    {
     "data": {
      "text/html": [
       "<div>\n",
       "<style scoped>\n",
       "    .dataframe tbody tr th:only-of-type {\n",
       "        vertical-align: middle;\n",
       "    }\n",
       "\n",
       "    .dataframe tbody tr th {\n",
       "        vertical-align: top;\n",
       "    }\n",
       "\n",
       "    .dataframe thead th {\n",
       "        text-align: right;\n",
       "    }\n",
       "</style>\n",
       "<table border=\"1\" class=\"dataframe\">\n",
       "  <thead>\n",
       "    <tr style=\"text-align: right;\">\n",
       "      <th></th>\n",
       "      <th>support_tick_id</th>\n",
       "      <th>support_ticket_text</th>\n",
       "      <th>model_response</th>\n",
       "    </tr>\n",
       "  </thead>\n",
       "  <tbody>\n",
       "    <tr>\n",
       "      <th>0</th>\n",
       "      <td>ST2023-006</td>\n",
       "      <td>My internet connection has significantly slowe...</td>\n",
       "      <td>{\\n        \"Category\": \"Network\",\\n        \"Ta...</td>\n",
       "    </tr>\n",
       "    <tr>\n",
       "      <th>1</th>\n",
       "      <td>ST2023-007</td>\n",
       "      <td>Urgent help required! My laptop refuses to sta...</td>\n",
       "      <td>{\\n        \"Category\": \"Hardware\",\\n        \"T...</td>\n",
       "    </tr>\n",
       "    <tr>\n",
       "      <th>2</th>\n",
       "      <td>ST2023-008</td>\n",
       "      <td>I've accidentally deleted essential work docum...</td>\n",
       "      <td>{\\n        \"Category\": \"Software\",\\n        \"T...</td>\n",
       "    </tr>\n",
       "    <tr>\n",
       "      <th>3</th>\n",
       "      <td>ST2023-009</td>\n",
       "      <td>Despite being in close proximity to my Wi-Fi r...</td>\n",
       "      <td>{\\n        \"Category\": \"Network\",\\n        \"Ta...</td>\n",
       "    </tr>\n",
       "    <tr>\n",
       "      <th>4</th>\n",
       "      <td>ST2023-010</td>\n",
       "      <td>My smartphone battery is draining rapidly, eve...</td>\n",
       "      <td>{\\n        \"Category\": \"Hardware\",\\n        \"T...</td>\n",
       "    </tr>\n",
       "  </tbody>\n",
       "</table>\n",
       "</div>"
      ],
      "text/plain": [
       "  support_tick_id                                support_ticket_text  \\\n",
       "0      ST2023-006  My internet connection has significantly slowe...   \n",
       "1      ST2023-007  Urgent help required! My laptop refuses to sta...   \n",
       "2      ST2023-008  I've accidentally deleted essential work docum...   \n",
       "3      ST2023-009  Despite being in close proximity to my Wi-Fi r...   \n",
       "4      ST2023-010  My smartphone battery is draining rapidly, eve...   \n",
       "\n",
       "                                      model_response  \n",
       "0  {\\n        \"Category\": \"Network\",\\n        \"Ta...  \n",
       "1  {\\n        \"Category\": \"Hardware\",\\n        \"T...  \n",
       "2  {\\n        \"Category\": \"Software\",\\n        \"T...  \n",
       "3  {\\n        \"Category\": \"Network\",\\n        \"Ta...  \n",
       "4  {\\n        \"Category\": \"Hardware\",\\n        \"T...  "
      ]
     },
     "execution_count": 29,
     "metadata": {},
     "output_type": "execute_result"
    }
   ],
   "source": [
    "# Check the first five rows of 'data_2' to confirm whether the new column has been added\n",
    "\n",
    "data_2.head()"
   ]
  },
  {
   "cell_type": "code",
   "execution_count": 30,
   "metadata": {
    "id": "zqOM7mntgsJ6"
   },
   "outputs": [
    {
     "name": "stdout",
     "output_type": "stream",
     "text": [
      "Urgent help required! My laptop refuses to start, and I have a crucial presentation scheduled for tomorrow. I've attempted a restart, but it hasn't worked. Please provide immediate assistance to resolve this hardware issue\n"
     ]
    }
   ],
   "source": [
    "# Print support ticket text based on value 'i' for location of ticket within rows of 'data_2'\n",
    "\n",
    "i = 1\n",
    "print(data_2.loc[i, 'support_ticket_text'])"
   ]
  },
  {
   "cell_type": "code",
   "execution_count": 31,
   "metadata": {
    "id": "IayJkEP1gr96"
   },
   "outputs": [
    {
     "name": "stdout",
     "output_type": "stream",
     "text": [
      "{\n",
      "        \"Category\": \"Hardware\",\n",
      "        \"Tags\": \"Laptop\"\n",
      "      }\n"
     ]
    }
   ],
   "source": [
    "# Print model response for corresponding support ticket at value 'i'\n",
    "\n",
    "print(data_2.loc[i, 'model_response'])"
   ]
  },
  {
   "cell_type": "markdown",
   "metadata": {},
   "source": [
    "#### Observations:\n",
    "\n",
    "Model category classification is correct and tag includes relevant terms from support ticket text."
   ]
  },
  {
   "cell_type": "code",
   "execution_count": 32,
   "metadata": {
    "id": "D8CTPgPQhKcx"
   },
   "outputs": [
    {
     "data": {
      "text/plain": [
       "0    {'Category': 'Network', 'Tags': 'Internet, Con...\n",
       "1           {'Category': 'Hardware', 'Tags': 'Laptop'}\n",
       "2        {'Category': 'Software', 'Tags': 'Data_loss'}\n",
       "3             {'Category': 'Network', 'Tags': 'Wi-Fi'}\n",
       "4          {'Category': 'Hardware', 'Tags': 'Battery'}\n",
       "Name: model_response_parsed, dtype: object"
      ]
     },
     "execution_count": 32,
     "metadata": {},
     "output_type": "execute_result"
    }
   ],
   "source": [
    "# Apply 'extract_json_data' function to 'model_response' column and print first 5 rows to ensure new column 'model_response_parsed' is formatted correctly\n",
    "\n",
    "data_2['model_response_parsed'] = data_2['model_response'].apply(extract_json_data)\n",
    "data_2['model_response_parsed'].head()"
   ]
  },
  {
   "cell_type": "code",
   "execution_count": 33,
   "metadata": {
    "id": "6PAke663hN3T"
   },
   "outputs": [
    {
     "data": {
      "text/html": [
       "<div>\n",
       "<style scoped>\n",
       "    .dataframe tbody tr th:only-of-type {\n",
       "        vertical-align: middle;\n",
       "    }\n",
       "\n",
       "    .dataframe tbody tr th {\n",
       "        vertical-align: top;\n",
       "    }\n",
       "\n",
       "    .dataframe thead th {\n",
       "        text-align: right;\n",
       "    }\n",
       "</style>\n",
       "<table border=\"1\" class=\"dataframe\">\n",
       "  <thead>\n",
       "    <tr style=\"text-align: right;\">\n",
       "      <th></th>\n",
       "      <th>Category</th>\n",
       "      <th>Tags</th>\n",
       "    </tr>\n",
       "  </thead>\n",
       "  <tbody>\n",
       "    <tr>\n",
       "      <th>0</th>\n",
       "      <td>Network</td>\n",
       "      <td>Internet, Connectivity</td>\n",
       "    </tr>\n",
       "    <tr>\n",
       "      <th>1</th>\n",
       "      <td>Hardware</td>\n",
       "      <td>Laptop</td>\n",
       "    </tr>\n",
       "    <tr>\n",
       "      <th>2</th>\n",
       "      <td>Software</td>\n",
       "      <td>Data_loss</td>\n",
       "    </tr>\n",
       "    <tr>\n",
       "      <th>3</th>\n",
       "      <td>Network</td>\n",
       "      <td>Wi-Fi</td>\n",
       "    </tr>\n",
       "    <tr>\n",
       "      <th>4</th>\n",
       "      <td>Hardware</td>\n",
       "      <td>Battery</td>\n",
       "    </tr>\n",
       "  </tbody>\n",
       "</table>\n",
       "</div>"
      ],
      "text/plain": [
       "   Category                    Tags\n",
       "0   Network  Internet, Connectivity\n",
       "1  Hardware                  Laptop\n",
       "2  Software               Data_loss\n",
       "3   Network                   Wi-Fi\n",
       "4  Hardware                 Battery"
      ]
     },
     "execution_count": 33,
     "metadata": {},
     "output_type": "execute_result"
    }
   ],
   "source": [
    "# Normalizing the 'model_response_parsed_df_2' column using the 'json_normalize' function in pandas\n",
    "\n",
    "model_response_parsed_df_2 = pd.json_normalize(data_2['model_response_parsed'])\n",
    "model_response_parsed_df_2.head()"
   ]
  },
  {
   "cell_type": "code",
   "execution_count": 34,
   "metadata": {
    "id": "aXJqZgh-hP4G"
   },
   "outputs": [
    {
     "data": {
      "text/html": [
       "<div>\n",
       "<style scoped>\n",
       "    .dataframe tbody tr th:only-of-type {\n",
       "        vertical-align: middle;\n",
       "    }\n",
       "\n",
       "    .dataframe tbody tr th {\n",
       "        vertical-align: top;\n",
       "    }\n",
       "\n",
       "    .dataframe thead th {\n",
       "        text-align: right;\n",
       "    }\n",
       "</style>\n",
       "<table border=\"1\" class=\"dataframe\">\n",
       "  <thead>\n",
       "    <tr style=\"text-align: right;\">\n",
       "      <th></th>\n",
       "      <th>support_tick_id</th>\n",
       "      <th>support_ticket_text</th>\n",
       "      <th>model_response</th>\n",
       "      <th>model_response_parsed</th>\n",
       "      <th>Category</th>\n",
       "      <th>Tags</th>\n",
       "    </tr>\n",
       "  </thead>\n",
       "  <tbody>\n",
       "    <tr>\n",
       "      <th>0</th>\n",
       "      <td>ST2023-006</td>\n",
       "      <td>My internet connection has significantly slowe...</td>\n",
       "      <td>{\\n        \"Category\": \"Network\",\\n        \"Ta...</td>\n",
       "      <td>{'Category': 'Network', 'Tags': 'Internet, Con...</td>\n",
       "      <td>Network</td>\n",
       "      <td>Internet, Connectivity</td>\n",
       "    </tr>\n",
       "    <tr>\n",
       "      <th>1</th>\n",
       "      <td>ST2023-007</td>\n",
       "      <td>Urgent help required! My laptop refuses to sta...</td>\n",
       "      <td>{\\n        \"Category\": \"Hardware\",\\n        \"T...</td>\n",
       "      <td>{'Category': 'Hardware', 'Tags': 'Laptop'}</td>\n",
       "      <td>Hardware</td>\n",
       "      <td>Laptop</td>\n",
       "    </tr>\n",
       "    <tr>\n",
       "      <th>2</th>\n",
       "      <td>ST2023-008</td>\n",
       "      <td>I've accidentally deleted essential work docum...</td>\n",
       "      <td>{\\n        \"Category\": \"Software\",\\n        \"T...</td>\n",
       "      <td>{'Category': 'Software', 'Tags': 'Data_loss'}</td>\n",
       "      <td>Software</td>\n",
       "      <td>Data_loss</td>\n",
       "    </tr>\n",
       "    <tr>\n",
       "      <th>3</th>\n",
       "      <td>ST2023-009</td>\n",
       "      <td>Despite being in close proximity to my Wi-Fi r...</td>\n",
       "      <td>{\\n        \"Category\": \"Network\",\\n        \"Ta...</td>\n",
       "      <td>{'Category': 'Network', 'Tags': 'Wi-Fi'}</td>\n",
       "      <td>Network</td>\n",
       "      <td>Wi-Fi</td>\n",
       "    </tr>\n",
       "    <tr>\n",
       "      <th>4</th>\n",
       "      <td>ST2023-010</td>\n",
       "      <td>My smartphone battery is draining rapidly, eve...</td>\n",
       "      <td>{\\n        \"Category\": \"Hardware\",\\n        \"T...</td>\n",
       "      <td>{'Category': 'Hardware', 'Tags': 'Battery'}</td>\n",
       "      <td>Hardware</td>\n",
       "      <td>Battery</td>\n",
       "    </tr>\n",
       "  </tbody>\n",
       "</table>\n",
       "</div>"
      ],
      "text/plain": [
       "  support_tick_id                                support_ticket_text  \\\n",
       "0      ST2023-006  My internet connection has significantly slowe...   \n",
       "1      ST2023-007  Urgent help required! My laptop refuses to sta...   \n",
       "2      ST2023-008  I've accidentally deleted essential work docum...   \n",
       "3      ST2023-009  Despite being in close proximity to my Wi-Fi r...   \n",
       "4      ST2023-010  My smartphone battery is draining rapidly, eve...   \n",
       "\n",
       "                                      model_response  \\\n",
       "0  {\\n        \"Category\": \"Network\",\\n        \"Ta...   \n",
       "1  {\\n        \"Category\": \"Hardware\",\\n        \"T...   \n",
       "2  {\\n        \"Category\": \"Software\",\\n        \"T...   \n",
       "3  {\\n        \"Category\": \"Network\",\\n        \"Ta...   \n",
       "4  {\\n        \"Category\": \"Hardware\",\\n        \"T...   \n",
       "\n",
       "                               model_response_parsed  Category  \\\n",
       "0  {'Category': 'Network', 'Tags': 'Internet, Con...   Network   \n",
       "1         {'Category': 'Hardware', 'Tags': 'Laptop'}  Hardware   \n",
       "2      {'Category': 'Software', 'Tags': 'Data_loss'}  Software   \n",
       "3           {'Category': 'Network', 'Tags': 'Wi-Fi'}   Network   \n",
       "4        {'Category': 'Hardware', 'Tags': 'Battery'}  Hardware   \n",
       "\n",
       "                     Tags  \n",
       "0  Internet, Connectivity  \n",
       "1                  Laptop  \n",
       "2               Data_loss  \n",
       "3                   Wi-Fi  \n",
       "4                 Battery  "
      ]
     },
     "execution_count": 34,
     "metadata": {},
     "output_type": "execute_result"
    }
   ],
   "source": [
    "# Concatinating 'data_2' and 'model_response_parsed_df_2' and printing the first 5 rows of the concatonated dataset\n",
    "\n",
    "data_with_parsed_model_output_2 = pd.concat([data_2, model_response_parsed_df_2], axis=1)\n",
    "data_with_parsed_model_output_2.head()"
   ]
  },
  {
   "cell_type": "code",
   "execution_count": 35,
   "metadata": {
    "id": "vsT9xR1FhSRZ"
   },
   "outputs": [
    {
     "data": {
      "text/html": [
       "<div>\n",
       "<style scoped>\n",
       "    .dataframe tbody tr th:only-of-type {\n",
       "        vertical-align: middle;\n",
       "    }\n",
       "\n",
       "    .dataframe tbody tr th {\n",
       "        vertical-align: top;\n",
       "    }\n",
       "\n",
       "    .dataframe thead th {\n",
       "        text-align: right;\n",
       "    }\n",
       "</style>\n",
       "<table border=\"1\" class=\"dataframe\">\n",
       "  <thead>\n",
       "    <tr style=\"text-align: right;\">\n",
       "      <th></th>\n",
       "      <th>support_tick_id</th>\n",
       "      <th>support_ticket_text</th>\n",
       "      <th>Category</th>\n",
       "      <th>Tags</th>\n",
       "    </tr>\n",
       "  </thead>\n",
       "  <tbody>\n",
       "    <tr>\n",
       "      <th>0</th>\n",
       "      <td>ST2023-006</td>\n",
       "      <td>My internet connection has significantly slowe...</td>\n",
       "      <td>Network</td>\n",
       "      <td>Internet, Connectivity</td>\n",
       "    </tr>\n",
       "    <tr>\n",
       "      <th>1</th>\n",
       "      <td>ST2023-007</td>\n",
       "      <td>Urgent help required! My laptop refuses to sta...</td>\n",
       "      <td>Hardware</td>\n",
       "      <td>Laptop</td>\n",
       "    </tr>\n",
       "    <tr>\n",
       "      <th>2</th>\n",
       "      <td>ST2023-008</td>\n",
       "      <td>I've accidentally deleted essential work docum...</td>\n",
       "      <td>Software</td>\n",
       "      <td>Data_loss</td>\n",
       "    </tr>\n",
       "    <tr>\n",
       "      <th>3</th>\n",
       "      <td>ST2023-009</td>\n",
       "      <td>Despite being in close proximity to my Wi-Fi r...</td>\n",
       "      <td>Network</td>\n",
       "      <td>Wi-Fi</td>\n",
       "    </tr>\n",
       "    <tr>\n",
       "      <th>4</th>\n",
       "      <td>ST2023-010</td>\n",
       "      <td>My smartphone battery is draining rapidly, eve...</td>\n",
       "      <td>Hardware</td>\n",
       "      <td>Battery</td>\n",
       "    </tr>\n",
       "  </tbody>\n",
       "</table>\n",
       "</div>"
      ],
      "text/plain": [
       "  support_tick_id                                support_ticket_text  \\\n",
       "0      ST2023-006  My internet connection has significantly slowe...   \n",
       "1      ST2023-007  Urgent help required! My laptop refuses to sta...   \n",
       "2      ST2023-008  I've accidentally deleted essential work docum...   \n",
       "3      ST2023-009  Despite being in close proximity to my Wi-Fi r...   \n",
       "4      ST2023-010  My smartphone battery is draining rapidly, eve...   \n",
       "\n",
       "   Category                    Tags  \n",
       "0   Network  Internet, Connectivity  \n",
       "1  Hardware                  Laptop  \n",
       "2  Software               Data_loss  \n",
       "3   Network                   Wi-Fi  \n",
       "4  Hardware                 Battery  "
      ]
     },
     "execution_count": 35,
     "metadata": {},
     "output_type": "execute_result"
    }
   ],
   "source": [
    "# Dropping 'model_response' and 'model_response_parsed' columns\n",
    "\n",
    "final_data_2 = data_with_parsed_model_output_2.drop(['model_response','model_response_parsed'], axis=1)\n",
    "final_data_2.head()"
   ]
  },
  {
   "cell_type": "code",
   "execution_count": 36,
   "metadata": {},
   "outputs": [
    {
     "data": {
      "text/html": [
       "<div>\n",
       "<style scoped>\n",
       "    .dataframe tbody tr th:only-of-type {\n",
       "        vertical-align: middle;\n",
       "    }\n",
       "\n",
       "    .dataframe tbody tr th {\n",
       "        vertical-align: top;\n",
       "    }\n",
       "\n",
       "    .dataframe thead th {\n",
       "        text-align: right;\n",
       "    }\n",
       "</style>\n",
       "<table border=\"1\" class=\"dataframe\">\n",
       "  <thead>\n",
       "    <tr style=\"text-align: right;\">\n",
       "      <th></th>\n",
       "      <th>support_tick_id</th>\n",
       "      <th>support_ticket_text</th>\n",
       "      <th>Category</th>\n",
       "      <th>Tags</th>\n",
       "    </tr>\n",
       "  </thead>\n",
       "  <tbody>\n",
       "    <tr>\n",
       "      <th>0</th>\n",
       "      <td>ST2023-006</td>\n",
       "      <td>My internet connection has significantly slowe...</td>\n",
       "      <td>Network</td>\n",
       "      <td>Internet, Connectivity</td>\n",
       "    </tr>\n",
       "    <tr>\n",
       "      <th>1</th>\n",
       "      <td>ST2023-007</td>\n",
       "      <td>Urgent help required! My laptop refuses to sta...</td>\n",
       "      <td>Hardware</td>\n",
       "      <td>Laptop</td>\n",
       "    </tr>\n",
       "    <tr>\n",
       "      <th>2</th>\n",
       "      <td>ST2023-008</td>\n",
       "      <td>I've accidentally deleted essential work docum...</td>\n",
       "      <td>Software</td>\n",
       "      <td>Data_loss</td>\n",
       "    </tr>\n",
       "    <tr>\n",
       "      <th>3</th>\n",
       "      <td>ST2023-009</td>\n",
       "      <td>Despite being in close proximity to my Wi-Fi r...</td>\n",
       "      <td>Network</td>\n",
       "      <td>Wi-Fi</td>\n",
       "    </tr>\n",
       "    <tr>\n",
       "      <th>4</th>\n",
       "      <td>ST2023-010</td>\n",
       "      <td>My smartphone battery is draining rapidly, eve...</td>\n",
       "      <td>Hardware</td>\n",
       "      <td>Battery</td>\n",
       "    </tr>\n",
       "    <tr>\n",
       "      <th>5</th>\n",
       "      <td>ST2023-011</td>\n",
       "      <td>I'm locked out of my online banking account an...</td>\n",
       "      <td>Software</td>\n",
       "      <td>Online Banking, Password</td>\n",
       "    </tr>\n",
       "    <tr>\n",
       "      <th>6</th>\n",
       "      <td>ST2023-012</td>\n",
       "      <td>My computer's performance is sluggish, severel...</td>\n",
       "      <td>Software</td>\n",
       "      <td>Performance</td>\n",
       "    </tr>\n",
       "    <tr>\n",
       "      <th>7</th>\n",
       "      <td>ST2023-013</td>\n",
       "      <td>I'm experiencing a recurring blue screen error...</td>\n",
       "      <td>Hardware</td>\n",
       "      <td>Blue Screen</td>\n",
       "    </tr>\n",
       "    <tr>\n",
       "      <th>8</th>\n",
       "      <td>ST2023-014</td>\n",
       "      <td>My external hard drive isn't being recognized ...</td>\n",
       "      <td>Hardware</td>\n",
       "      <td>External_hard_drive</td>\n",
       "    </tr>\n",
       "    <tr>\n",
       "      <th>9</th>\n",
       "      <td>ST2023-015</td>\n",
       "      <td>The graphics card in my gaming laptop seems to...</td>\n",
       "      <td>Hardware</td>\n",
       "      <td>Graphics_card</td>\n",
       "    </tr>\n",
       "    <tr>\n",
       "      <th>10</th>\n",
       "      <td>ST2023-016</td>\n",
       "      <td>I accidentally formatted my USB drive with cri...</td>\n",
       "      <td>Hardware</td>\n",
       "      <td>Data_recovery,USB</td>\n",
       "    </tr>\n",
       "    <tr>\n",
       "      <th>11</th>\n",
       "      <td>ST2023-017</td>\n",
       "      <td>My computer's screen has gone black, and I can...</td>\n",
       "      <td>Hardware</td>\n",
       "      <td>Computer, Screen</td>\n",
       "    </tr>\n",
       "    <tr>\n",
       "      <th>12</th>\n",
       "      <td>ST2023-018</td>\n",
       "      <td>I accidentally spilled water on my laptop, and...</td>\n",
       "      <td>Hardware</td>\n",
       "      <td>Laptop, Water Damage</td>\n",
       "    </tr>\n",
       "    <tr>\n",
       "      <th>13</th>\n",
       "      <td>ST2023-019</td>\n",
       "      <td>My USB flash drive is physically damaged, and ...</td>\n",
       "      <td>Hardware</td>\n",
       "      <td>USB</td>\n",
       "    </tr>\n",
       "    <tr>\n",
       "      <th>14</th>\n",
       "      <td>ST2023-020</td>\n",
       "      <td>The touchpad on my laptop has stopped working,...</td>\n",
       "      <td>Hardware</td>\n",
       "      <td>Touchpad</td>\n",
       "    </tr>\n",
       "    <tr>\n",
       "      <th>15</th>\n",
       "      <td>ST2023-021</td>\n",
       "      <td>My internet connection is frequently dropping,...</td>\n",
       "      <td>Network</td>\n",
       "      <td>Internet</td>\n",
       "    </tr>\n",
       "    <tr>\n",
       "      <th>16</th>\n",
       "      <td>ST2023-022</td>\n",
       "      <td>Wi-Fi is inconsistent despite proximity to the...</td>\n",
       "      <td>Network</td>\n",
       "      <td>Wi-Fi</td>\n",
       "    </tr>\n",
       "    <tr>\n",
       "      <th>17</th>\n",
       "      <td>ST2023-023</td>\n",
       "      <td>I accidentally formatted my USB drive with cru...</td>\n",
       "      <td>Hardware</td>\n",
       "      <td>USB</td>\n",
       "    </tr>\n",
       "    <tr>\n",
       "      <th>18</th>\n",
       "      <td>ST2023-024</td>\n",
       "      <td>My external hard drive isn't being recognized,...</td>\n",
       "      <td>Hardware</td>\n",
       "      <td>External Hard Drive</td>\n",
       "    </tr>\n",
       "    <tr>\n",
       "      <th>19</th>\n",
       "      <td>ST2023-025</td>\n",
       "      <td>I am experiencing a critical problem with my i...</td>\n",
       "      <td>Network</td>\n",
       "      <td>Internet, Connectivity</td>\n",
       "    </tr>\n",
       "    <tr>\n",
       "      <th>20</th>\n",
       "      <td>ST2023-026</td>\n",
       "      <td>I hope this message finds you well. I am writi...</td>\n",
       "      <td>Software</td>\n",
       "      <td>[software, crashes, freezes, data loss]</td>\n",
       "    </tr>\n",
       "  </tbody>\n",
       "</table>\n",
       "</div>"
      ],
      "text/plain": [
       "   support_tick_id                                support_ticket_text  \\\n",
       "0       ST2023-006  My internet connection has significantly slowe...   \n",
       "1       ST2023-007  Urgent help required! My laptop refuses to sta...   \n",
       "2       ST2023-008  I've accidentally deleted essential work docum...   \n",
       "3       ST2023-009  Despite being in close proximity to my Wi-Fi r...   \n",
       "4       ST2023-010  My smartphone battery is draining rapidly, eve...   \n",
       "5       ST2023-011  I'm locked out of my online banking account an...   \n",
       "6       ST2023-012  My computer's performance is sluggish, severel...   \n",
       "7       ST2023-013  I'm experiencing a recurring blue screen error...   \n",
       "8       ST2023-014  My external hard drive isn't being recognized ...   \n",
       "9       ST2023-015  The graphics card in my gaming laptop seems to...   \n",
       "10      ST2023-016  I accidentally formatted my USB drive with cri...   \n",
       "11      ST2023-017  My computer's screen has gone black, and I can...   \n",
       "12      ST2023-018  I accidentally spilled water on my laptop, and...   \n",
       "13      ST2023-019  My USB flash drive is physically damaged, and ...   \n",
       "14      ST2023-020  The touchpad on my laptop has stopped working,...   \n",
       "15      ST2023-021  My internet connection is frequently dropping,...   \n",
       "16      ST2023-022  Wi-Fi is inconsistent despite proximity to the...   \n",
       "17      ST2023-023  I accidentally formatted my USB drive with cru...   \n",
       "18      ST2023-024  My external hard drive isn't being recognized,...   \n",
       "19      ST2023-025  I am experiencing a critical problem with my i...   \n",
       "20      ST2023-026  I hope this message finds you well. I am writi...   \n",
       "\n",
       "    Category                                     Tags  \n",
       "0    Network                   Internet, Connectivity  \n",
       "1   Hardware                                   Laptop  \n",
       "2   Software                                Data_loss  \n",
       "3    Network                                    Wi-Fi  \n",
       "4   Hardware                                  Battery  \n",
       "5   Software                 Online Banking, Password  \n",
       "6   Software                              Performance  \n",
       "7   Hardware                              Blue Screen  \n",
       "8   Hardware                      External_hard_drive  \n",
       "9   Hardware                            Graphics_card  \n",
       "10  Hardware                        Data_recovery,USB  \n",
       "11  Hardware                         Computer, Screen  \n",
       "12  Hardware                     Laptop, Water Damage  \n",
       "13  Hardware                                      USB  \n",
       "14  Hardware                                 Touchpad  \n",
       "15   Network                                 Internet  \n",
       "16   Network                                    Wi-Fi  \n",
       "17  Hardware                                      USB  \n",
       "18  Hardware                      External Hard Drive  \n",
       "19   Network                   Internet, Connectivity  \n",
       "20  Software  [software, crashes, freezes, data loss]  "
      ]
     },
     "execution_count": 36,
     "metadata": {},
     "output_type": "execute_result"
    }
   ],
   "source": [
    "# Print 'final_data_2' dataset\n",
    "\n",
    "final_data_2"
   ]
  },
  {
   "cell_type": "markdown",
   "metadata": {},
   "source": [
    "#### Observations:\n",
    "\n",
    "Model categorization and tags appear correct."
   ]
  },
  {
   "cell_type": "markdown",
   "metadata": {
    "id": "bdwE7rguh8sD"
   },
   "source": [
    "## **Task 3: Assigning Priority and ETA**"
   ]
  },
  {
   "cell_type": "code",
   "execution_count": 37,
   "metadata": {
    "id": "4FS158JYiUXY"
   },
   "outputs": [],
   "source": [
    "# Create a third copy of the data\n",
    "\n",
    "data_3 = data.copy()"
   ]
  },
  {
   "cell_type": "code",
   "execution_count": 38,
   "metadata": {
    "id": "sHjSvP9maGFt"
   },
   "outputs": [],
   "source": [
    "# Define the response function for assigning priority levels and ETAs for each support ticket iterating upon the function 'response_2'\n",
    "\n",
    "def response_3(prompt,ticket):\n",
    "    model_output = llm(\n",
    "      f\"\"\"\n",
    "      Q: {prompt}\n",
    "      R: {ticket}\n",
    "      \"\"\",\n",
    "      max_tokens=200,\n",
    "      stop=[\"None\"],\n",
    "      temperature=0.2,\n",
    "      echo=False,\n",
    "    )\n",
    "\n",
    "    temp_output = model_output[\"choices\"][0][\"text\"]\n",
    "    final_output = temp_output[temp_output.index('{'):]\n",
    "\n",
    "    return final_output"
   ]
  },
  {
   "cell_type": "code",
   "execution_count": 39,
   "metadata": {},
   "outputs": [],
   "source": [
    "# Define prompt for ticket categorization adding additional instructions regarding tag creation and timeline estimation for each support ticket\n",
    "\n",
    "prompt_3 = \"\"\"\n",
    "You are a support ticket classification system. Your task is to read the dataset \"data_3\" and focus on the 'support_ticket_text' cells. \n",
    "For each support ticket, provide the following details:\n",
    "\n",
    "1. **Category**: Determine the type of issue from these options: \"Hardware\", \"Software\", or \"Network\". Assign the most appropriate category from the 3 options to each support ticket. Do not create a subcategory field.\n",
    "2. **Tags**: Extract relevant terms from the support ticket text and assign the single most important term as a tag for each support ticket.\n",
    "3. **Priority**: Rate the level of priority based on urgency from these 3 options: \"Low\", \"Medium\", or \"High\".\n",
    "4. **ETA**: Assign an estimated time for resolution from these 3 options: \"2-3 Business Days\", \"24 Hours\", or \"Immediate\".\n",
    "\n",
    "Please format the output as a JSON object like this:\n",
    "\n",
    "{\n",
    "  \"Category\": \"<category>\",\n",
    "  \"Tags\": \"<tags>\",\n",
    "  \"Priority\": \"<priority>\",\n",
    "  \"ETA\": \"<eta>\"\n",
    "}\n",
    "\n",
    "Here are some examples:\n",
    "\n",
    "Support ticket: \"My laptop has struggled to run the latest version of Microsoft Excel.\"\n",
    "{\n",
    "  \"Category\": \"Software\",\n",
    "  \"Tags\": \"Excel\"\n",
    "  \"Priority\": \"Low\",\n",
    "  \"ETA\": \"2-3 Business Days\"\n",
    "}\n",
    "\n",
    "Support ticket: \"My internet connection has significantly slowed down.\"\n",
    "{\n",
    "  \"Category\": \"Network\",\n",
    "  \"Tags\": \"Internet\",\n",
    "  \"Priority\": \"Medium\",\n",
    "  \"ETA\": \"24 Hours\"\n",
    "}\n",
    "\n",
    "Support ticket: \"Urgent help required! My laptop refuses to start.\"\n",
    "{\n",
    "  \"Category\": \"Hardware\",\n",
    "  \"Tags\": \"Laptop\",\n",
    "  \"Priority\": \"High\",\n",
    "  \"ETA\": \"Immediate\"\n",
    "}\n",
    "\n",
    "Do not forget to include the final curly bracket \"}\" for every JSON object output. Now, process the following support ticket:\n",
    "\n",
    "Support ticket: {ticket}\n",
    "\"\"\""
   ]
  },
  {
   "cell_type": "code",
   "execution_count": null,
   "metadata": {
    "id": "xC2Ygg4AiUR6"
   },
   "outputs": [],
   "source": [
    "# Apply the response_3 function to each support ticket text in the DataFrame and store the model's response in a new column 'model_response'\n",
    "\n",
    "start = time.time()\n",
    "data_3['model_response'] = data_3['support_ticket_text'].apply(lambda x: response_3(prompt_3, x))\n",
    "end = time.time()"
   ]
  },
  {
   "cell_type": "code",
   "execution_count": 41,
   "metadata": {
    "id": "TXnus6Akhmr8"
   },
   "outputs": [
    {
     "name": "stdout",
     "output_type": "stream",
     "text": [
      "Time Taken: 123.09486317634583 seconds\n"
     ]
    }
   ],
   "source": [
    "# Display total time taken for model to complete the task\n",
    "\n",
    "print(\"Time Taken:\",(end-start), \"seconds\")"
   ]
  },
  {
   "cell_type": "code",
   "execution_count": 42,
   "metadata": {
    "id": "LsvGelDZiUPL",
    "scrolled": true
   },
   "outputs": [
    {
     "data": {
      "text/html": [
       "<div>\n",
       "<style scoped>\n",
       "    .dataframe tbody tr th:only-of-type {\n",
       "        vertical-align: middle;\n",
       "    }\n",
       "\n",
       "    .dataframe tbody tr th {\n",
       "        vertical-align: top;\n",
       "    }\n",
       "\n",
       "    .dataframe thead th {\n",
       "        text-align: right;\n",
       "    }\n",
       "</style>\n",
       "<table border=\"1\" class=\"dataframe\">\n",
       "  <thead>\n",
       "    <tr style=\"text-align: right;\">\n",
       "      <th></th>\n",
       "      <th>support_tick_id</th>\n",
       "      <th>support_ticket_text</th>\n",
       "      <th>model_response</th>\n",
       "    </tr>\n",
       "  </thead>\n",
       "  <tbody>\n",
       "    <tr>\n",
       "      <th>0</th>\n",
       "      <td>ST2023-006</td>\n",
       "      <td>My internet connection has significantly slowe...</td>\n",
       "      <td>{\\n        \"Category\": \"Network\",\\n        \"Ta...</td>\n",
       "    </tr>\n",
       "    <tr>\n",
       "      <th>1</th>\n",
       "      <td>ST2023-007</td>\n",
       "      <td>Urgent help required! My laptop refuses to sta...</td>\n",
       "      <td>{\\n        \"Category\": \"Hardware\",\\n        \"T...</td>\n",
       "    </tr>\n",
       "    <tr>\n",
       "      <th>2</th>\n",
       "      <td>ST2023-008</td>\n",
       "      <td>I've accidentally deleted essential work docum...</td>\n",
       "      <td>{\\n        \"Category\": \"Software\",\\n        \"T...</td>\n",
       "    </tr>\n",
       "    <tr>\n",
       "      <th>3</th>\n",
       "      <td>ST2023-009</td>\n",
       "      <td>Despite being in close proximity to my Wi-Fi r...</td>\n",
       "      <td>{\\n        \"Category\": \"Network\",\\n        \"Ta...</td>\n",
       "    </tr>\n",
       "    <tr>\n",
       "      <th>4</th>\n",
       "      <td>ST2023-010</td>\n",
       "      <td>My smartphone battery is draining rapidly, eve...</td>\n",
       "      <td>{\\n        \"Category\": \"Hardware\",\\n        \"T...</td>\n",
       "    </tr>\n",
       "  </tbody>\n",
       "</table>\n",
       "</div>"
      ],
      "text/plain": [
       "  support_tick_id                                support_ticket_text  \\\n",
       "0      ST2023-006  My internet connection has significantly slowe...   \n",
       "1      ST2023-007  Urgent help required! My laptop refuses to sta...   \n",
       "2      ST2023-008  I've accidentally deleted essential work docum...   \n",
       "3      ST2023-009  Despite being in close proximity to my Wi-Fi r...   \n",
       "4      ST2023-010  My smartphone battery is draining rapidly, eve...   \n",
       "\n",
       "                                      model_response  \n",
       "0  {\\n        \"Category\": \"Network\",\\n        \"Ta...  \n",
       "1  {\\n        \"Category\": \"Hardware\",\\n        \"T...  \n",
       "2  {\\n        \"Category\": \"Software\",\\n        \"T...  \n",
       "3  {\\n        \"Category\": \"Network\",\\n        \"Ta...  \n",
       "4  {\\n        \"Category\": \"Hardware\",\\n        \"T...  "
      ]
     },
     "execution_count": 42,
     "metadata": {},
     "output_type": "execute_result"
    }
   ],
   "source": [
    "# Check the first five rows of 'data_3' to confirm whether the new column has been added\n",
    "\n",
    "data_3.head()"
   ]
  },
  {
   "cell_type": "code",
   "execution_count": 43,
   "metadata": {
    "id": "S_iOXhT1iUMd"
   },
   "outputs": [
    {
     "name": "stdout",
     "output_type": "stream",
     "text": [
      "Despite being in close proximity to my Wi-Fi router, the signal remains persistently weak in my home. This issue has been ongoing, and I need assistance troubleshooting it. Please help me resolve the weak Wi-Fi signal problem.\n"
     ]
    }
   ],
   "source": [
    "# Print support ticket text based on value 'i' for location of ticket within rows of 'data_3'\n",
    "\n",
    "i = 3\n",
    "print(data_3.loc[i, 'support_ticket_text'])"
   ]
  },
  {
   "cell_type": "code",
   "execution_count": 44,
   "metadata": {
    "id": "LlqV49CeiUJz"
   },
   "outputs": [
    {
     "name": "stdout",
     "output_type": "stream",
     "text": [
      "{\n",
      "        \"Category\": \"Network\",\n",
      "        \"Tags\": \"Wi-Fi\",\n",
      "        \"Priority\": \"Medium\",\n",
      "        \"ETA\": \"24 Hours\"\n",
      "      }\n"
     ]
    }
   ],
   "source": [
    "# Print model response for corresponding support ticket at value 'i'\n",
    "\n",
    "print(data_3.loc[i, 'model_response'])"
   ]
  },
  {
   "cell_type": "markdown",
   "metadata": {},
   "source": [
    "#### Observations:\n",
    "\n",
    "Model category classification is correct, the tag is relevant, the priority is correct, and the ETA appears reasonable."
   ]
  },
  {
   "cell_type": "code",
   "execution_count": 45,
   "metadata": {
    "id": "h1F87rEpm70v"
   },
   "outputs": [
    {
     "data": {
      "text/plain": [
       "0    {'Category': 'Network', 'Tags': 'Internet, Con...\n",
       "1    {'Category': 'Hardware', 'Tags': 'Laptop', 'Pr...\n",
       "2    {'Category': 'Software', 'Tags': 'Data Loss', ...\n",
       "3    {'Category': 'Network', 'Tags': 'Wi-Fi', 'Prio...\n",
       "4    {'Category': 'Hardware', 'Tags': 'Smartphone, ...\n",
       "Name: model_response_parsed, dtype: object"
      ]
     },
     "execution_count": 45,
     "metadata": {},
     "output_type": "execute_result"
    }
   ],
   "source": [
    "# Apply 'extract_json_data' function to 'model_response' column and print first 5 rows to ensure new column 'model_response_parsed' is formatted correctly\n",
    "\n",
    "data_3['model_response_parsed'] = data_3['model_response'].apply(extract_json_data)\n",
    "data_3['model_response_parsed'].head()"
   ]
  },
  {
   "cell_type": "code",
   "execution_count": 46,
   "metadata": {
    "id": "BGLu4BJEnDQq"
   },
   "outputs": [
    {
     "data": {
      "text/html": [
       "<div>\n",
       "<style scoped>\n",
       "    .dataframe tbody tr th:only-of-type {\n",
       "        vertical-align: middle;\n",
       "    }\n",
       "\n",
       "    .dataframe tbody tr th {\n",
       "        vertical-align: top;\n",
       "    }\n",
       "\n",
       "    .dataframe thead th {\n",
       "        text-align: right;\n",
       "    }\n",
       "</style>\n",
       "<table border=\"1\" class=\"dataframe\">\n",
       "  <thead>\n",
       "    <tr style=\"text-align: right;\">\n",
       "      <th></th>\n",
       "      <th>Category</th>\n",
       "      <th>Tags</th>\n",
       "      <th>Priority</th>\n",
       "      <th>ETA</th>\n",
       "    </tr>\n",
       "  </thead>\n",
       "  <tbody>\n",
       "    <tr>\n",
       "      <th>0</th>\n",
       "      <td>Network</td>\n",
       "      <td>Internet, Connectivity</td>\n",
       "      <td>High</td>\n",
       "      <td>Immediate</td>\n",
       "    </tr>\n",
       "    <tr>\n",
       "      <th>1</th>\n",
       "      <td>Hardware</td>\n",
       "      <td>Laptop</td>\n",
       "      <td>High</td>\n",
       "      <td>Immediate</td>\n",
       "    </tr>\n",
       "    <tr>\n",
       "      <th>2</th>\n",
       "      <td>Software</td>\n",
       "      <td>Data Loss</td>\n",
       "      <td>High</td>\n",
       "      <td>Immediate</td>\n",
       "    </tr>\n",
       "    <tr>\n",
       "      <th>3</th>\n",
       "      <td>Network</td>\n",
       "      <td>Wi-Fi</td>\n",
       "      <td>Medium</td>\n",
       "      <td>24 Hours</td>\n",
       "    </tr>\n",
       "    <tr>\n",
       "      <th>4</th>\n",
       "      <td>Hardware</td>\n",
       "      <td>Smartphone, Battery</td>\n",
       "      <td>Medium</td>\n",
       "      <td>24 Hours</td>\n",
       "    </tr>\n",
       "  </tbody>\n",
       "</table>\n",
       "</div>"
      ],
      "text/plain": [
       "   Category                    Tags Priority        ETA\n",
       "0   Network  Internet, Connectivity     High  Immediate\n",
       "1  Hardware                  Laptop     High  Immediate\n",
       "2  Software               Data Loss     High  Immediate\n",
       "3   Network                   Wi-Fi   Medium   24 Hours\n",
       "4  Hardware     Smartphone, Battery   Medium   24 Hours"
      ]
     },
     "execution_count": 46,
     "metadata": {},
     "output_type": "execute_result"
    }
   ],
   "source": [
    "# Normalizing the 'model_response_parsed_df_3' column using the 'json_normalize' function in pandas\n",
    "\n",
    "model_response_parsed_df_3 = pd.json_normalize(data_3['model_response_parsed'])\n",
    "model_response_parsed_df_3.head()"
   ]
  },
  {
   "cell_type": "code",
   "execution_count": 47,
   "metadata": {
    "id": "4x7VEKDcnL11"
   },
   "outputs": [
    {
     "data": {
      "text/html": [
       "<div>\n",
       "<style scoped>\n",
       "    .dataframe tbody tr th:only-of-type {\n",
       "        vertical-align: middle;\n",
       "    }\n",
       "\n",
       "    .dataframe tbody tr th {\n",
       "        vertical-align: top;\n",
       "    }\n",
       "\n",
       "    .dataframe thead th {\n",
       "        text-align: right;\n",
       "    }\n",
       "</style>\n",
       "<table border=\"1\" class=\"dataframe\">\n",
       "  <thead>\n",
       "    <tr style=\"text-align: right;\">\n",
       "      <th></th>\n",
       "      <th>support_tick_id</th>\n",
       "      <th>support_ticket_text</th>\n",
       "      <th>model_response</th>\n",
       "      <th>model_response_parsed</th>\n",
       "      <th>Category</th>\n",
       "      <th>Tags</th>\n",
       "      <th>Priority</th>\n",
       "      <th>ETA</th>\n",
       "    </tr>\n",
       "  </thead>\n",
       "  <tbody>\n",
       "    <tr>\n",
       "      <th>0</th>\n",
       "      <td>ST2023-006</td>\n",
       "      <td>My internet connection has significantly slowe...</td>\n",
       "      <td>{\\n        \"Category\": \"Network\",\\n        \"Ta...</td>\n",
       "      <td>{'Category': 'Network', 'Tags': 'Internet, Con...</td>\n",
       "      <td>Network</td>\n",
       "      <td>Internet, Connectivity</td>\n",
       "      <td>High</td>\n",
       "      <td>Immediate</td>\n",
       "    </tr>\n",
       "    <tr>\n",
       "      <th>1</th>\n",
       "      <td>ST2023-007</td>\n",
       "      <td>Urgent help required! My laptop refuses to sta...</td>\n",
       "      <td>{\\n        \"Category\": \"Hardware\",\\n        \"T...</td>\n",
       "      <td>{'Category': 'Hardware', 'Tags': 'Laptop', 'Pr...</td>\n",
       "      <td>Hardware</td>\n",
       "      <td>Laptop</td>\n",
       "      <td>High</td>\n",
       "      <td>Immediate</td>\n",
       "    </tr>\n",
       "    <tr>\n",
       "      <th>2</th>\n",
       "      <td>ST2023-008</td>\n",
       "      <td>I've accidentally deleted essential work docum...</td>\n",
       "      <td>{\\n        \"Category\": \"Software\",\\n        \"T...</td>\n",
       "      <td>{'Category': 'Software', 'Tags': 'Data Loss', ...</td>\n",
       "      <td>Software</td>\n",
       "      <td>Data Loss</td>\n",
       "      <td>High</td>\n",
       "      <td>Immediate</td>\n",
       "    </tr>\n",
       "    <tr>\n",
       "      <th>3</th>\n",
       "      <td>ST2023-009</td>\n",
       "      <td>Despite being in close proximity to my Wi-Fi r...</td>\n",
       "      <td>{\\n        \"Category\": \"Network\",\\n        \"Ta...</td>\n",
       "      <td>{'Category': 'Network', 'Tags': 'Wi-Fi', 'Prio...</td>\n",
       "      <td>Network</td>\n",
       "      <td>Wi-Fi</td>\n",
       "      <td>Medium</td>\n",
       "      <td>24 Hours</td>\n",
       "    </tr>\n",
       "    <tr>\n",
       "      <th>4</th>\n",
       "      <td>ST2023-010</td>\n",
       "      <td>My smartphone battery is draining rapidly, eve...</td>\n",
       "      <td>{\\n        \"Category\": \"Hardware\",\\n        \"T...</td>\n",
       "      <td>{'Category': 'Hardware', 'Tags': 'Smartphone, ...</td>\n",
       "      <td>Hardware</td>\n",
       "      <td>Smartphone, Battery</td>\n",
       "      <td>Medium</td>\n",
       "      <td>24 Hours</td>\n",
       "    </tr>\n",
       "  </tbody>\n",
       "</table>\n",
       "</div>"
      ],
      "text/plain": [
       "  support_tick_id                                support_ticket_text  \\\n",
       "0      ST2023-006  My internet connection has significantly slowe...   \n",
       "1      ST2023-007  Urgent help required! My laptop refuses to sta...   \n",
       "2      ST2023-008  I've accidentally deleted essential work docum...   \n",
       "3      ST2023-009  Despite being in close proximity to my Wi-Fi r...   \n",
       "4      ST2023-010  My smartphone battery is draining rapidly, eve...   \n",
       "\n",
       "                                      model_response  \\\n",
       "0  {\\n        \"Category\": \"Network\",\\n        \"Ta...   \n",
       "1  {\\n        \"Category\": \"Hardware\",\\n        \"T...   \n",
       "2  {\\n        \"Category\": \"Software\",\\n        \"T...   \n",
       "3  {\\n        \"Category\": \"Network\",\\n        \"Ta...   \n",
       "4  {\\n        \"Category\": \"Hardware\",\\n        \"T...   \n",
       "\n",
       "                               model_response_parsed  Category  \\\n",
       "0  {'Category': 'Network', 'Tags': 'Internet, Con...   Network   \n",
       "1  {'Category': 'Hardware', 'Tags': 'Laptop', 'Pr...  Hardware   \n",
       "2  {'Category': 'Software', 'Tags': 'Data Loss', ...  Software   \n",
       "3  {'Category': 'Network', 'Tags': 'Wi-Fi', 'Prio...   Network   \n",
       "4  {'Category': 'Hardware', 'Tags': 'Smartphone, ...  Hardware   \n",
       "\n",
       "                     Tags Priority        ETA  \n",
       "0  Internet, Connectivity     High  Immediate  \n",
       "1                  Laptop     High  Immediate  \n",
       "2               Data Loss     High  Immediate  \n",
       "3                   Wi-Fi   Medium   24 Hours  \n",
       "4     Smartphone, Battery   Medium   24 Hours  "
      ]
     },
     "execution_count": 47,
     "metadata": {},
     "output_type": "execute_result"
    }
   ],
   "source": [
    "# Concatinating 'data_3' and 'model_response_parsed_df_3' and printing the first 5 rows of the concatonated dataset\n",
    "\n",
    "data_with_parsed_model_output_3 = pd.concat([data_3, model_response_parsed_df_3], axis=1)\n",
    "data_with_parsed_model_output_3.head()"
   ]
  },
  {
   "cell_type": "code",
   "execution_count": 48,
   "metadata": {
    "id": "gz8WprxNnONN"
   },
   "outputs": [
    {
     "data": {
      "text/html": [
       "<div>\n",
       "<style scoped>\n",
       "    .dataframe tbody tr th:only-of-type {\n",
       "        vertical-align: middle;\n",
       "    }\n",
       "\n",
       "    .dataframe tbody tr th {\n",
       "        vertical-align: top;\n",
       "    }\n",
       "\n",
       "    .dataframe thead th {\n",
       "        text-align: right;\n",
       "    }\n",
       "</style>\n",
       "<table border=\"1\" class=\"dataframe\">\n",
       "  <thead>\n",
       "    <tr style=\"text-align: right;\">\n",
       "      <th></th>\n",
       "      <th>support_tick_id</th>\n",
       "      <th>support_ticket_text</th>\n",
       "      <th>Category</th>\n",
       "      <th>Tags</th>\n",
       "      <th>Priority</th>\n",
       "      <th>ETA</th>\n",
       "    </tr>\n",
       "  </thead>\n",
       "  <tbody>\n",
       "    <tr>\n",
       "      <th>0</th>\n",
       "      <td>ST2023-006</td>\n",
       "      <td>My internet connection has significantly slowe...</td>\n",
       "      <td>Network</td>\n",
       "      <td>Internet, Connectivity</td>\n",
       "      <td>High</td>\n",
       "      <td>Immediate</td>\n",
       "    </tr>\n",
       "    <tr>\n",
       "      <th>1</th>\n",
       "      <td>ST2023-007</td>\n",
       "      <td>Urgent help required! My laptop refuses to sta...</td>\n",
       "      <td>Hardware</td>\n",
       "      <td>Laptop</td>\n",
       "      <td>High</td>\n",
       "      <td>Immediate</td>\n",
       "    </tr>\n",
       "    <tr>\n",
       "      <th>2</th>\n",
       "      <td>ST2023-008</td>\n",
       "      <td>I've accidentally deleted essential work docum...</td>\n",
       "      <td>Software</td>\n",
       "      <td>Data Loss</td>\n",
       "      <td>High</td>\n",
       "      <td>Immediate</td>\n",
       "    </tr>\n",
       "    <tr>\n",
       "      <th>3</th>\n",
       "      <td>ST2023-009</td>\n",
       "      <td>Despite being in close proximity to my Wi-Fi r...</td>\n",
       "      <td>Network</td>\n",
       "      <td>Wi-Fi</td>\n",
       "      <td>Medium</td>\n",
       "      <td>24 Hours</td>\n",
       "    </tr>\n",
       "    <tr>\n",
       "      <th>4</th>\n",
       "      <td>ST2023-010</td>\n",
       "      <td>My smartphone battery is draining rapidly, eve...</td>\n",
       "      <td>Hardware</td>\n",
       "      <td>Smartphone, Battery</td>\n",
       "      <td>Medium</td>\n",
       "      <td>24 Hours</td>\n",
       "    </tr>\n",
       "  </tbody>\n",
       "</table>\n",
       "</div>"
      ],
      "text/plain": [
       "  support_tick_id                                support_ticket_text  \\\n",
       "0      ST2023-006  My internet connection has significantly slowe...   \n",
       "1      ST2023-007  Urgent help required! My laptop refuses to sta...   \n",
       "2      ST2023-008  I've accidentally deleted essential work docum...   \n",
       "3      ST2023-009  Despite being in close proximity to my Wi-Fi r...   \n",
       "4      ST2023-010  My smartphone battery is draining rapidly, eve...   \n",
       "\n",
       "   Category                    Tags Priority        ETA  \n",
       "0   Network  Internet, Connectivity     High  Immediate  \n",
       "1  Hardware                  Laptop     High  Immediate  \n",
       "2  Software               Data Loss     High  Immediate  \n",
       "3   Network                   Wi-Fi   Medium   24 Hours  \n",
       "4  Hardware     Smartphone, Battery   Medium   24 Hours  "
      ]
     },
     "execution_count": 48,
     "metadata": {},
     "output_type": "execute_result"
    }
   ],
   "source": [
    "# Dropping 'model_response' and 'model_response_parsed' columns\n",
    "\n",
    "final_data_3 = data_with_parsed_model_output_3.drop(['model_response','model_response_parsed'], axis=1)\n",
    "final_data_3.head()"
   ]
  },
  {
   "cell_type": "code",
   "execution_count": 49,
   "metadata": {
    "id": "da_W2ybekZHD"
   },
   "outputs": [
    {
     "data": {
      "text/html": [
       "<div>\n",
       "<style scoped>\n",
       "    .dataframe tbody tr th:only-of-type {\n",
       "        vertical-align: middle;\n",
       "    }\n",
       "\n",
       "    .dataframe tbody tr th {\n",
       "        vertical-align: top;\n",
       "    }\n",
       "\n",
       "    .dataframe thead th {\n",
       "        text-align: right;\n",
       "    }\n",
       "</style>\n",
       "<table border=\"1\" class=\"dataframe\">\n",
       "  <thead>\n",
       "    <tr style=\"text-align: right;\">\n",
       "      <th></th>\n",
       "      <th>support_tick_id</th>\n",
       "      <th>support_ticket_text</th>\n",
       "      <th>Category</th>\n",
       "      <th>Tags</th>\n",
       "      <th>Priority</th>\n",
       "      <th>ETA</th>\n",
       "    </tr>\n",
       "  </thead>\n",
       "  <tbody>\n",
       "    <tr>\n",
       "      <th>0</th>\n",
       "      <td>ST2023-006</td>\n",
       "      <td>My internet connection has significantly slowe...</td>\n",
       "      <td>Network</td>\n",
       "      <td>Internet, Connectivity</td>\n",
       "      <td>High</td>\n",
       "      <td>Immediate</td>\n",
       "    </tr>\n",
       "    <tr>\n",
       "      <th>1</th>\n",
       "      <td>ST2023-007</td>\n",
       "      <td>Urgent help required! My laptop refuses to sta...</td>\n",
       "      <td>Hardware</td>\n",
       "      <td>Laptop</td>\n",
       "      <td>High</td>\n",
       "      <td>Immediate</td>\n",
       "    </tr>\n",
       "    <tr>\n",
       "      <th>2</th>\n",
       "      <td>ST2023-008</td>\n",
       "      <td>I've accidentally deleted essential work docum...</td>\n",
       "      <td>Software</td>\n",
       "      <td>Data Loss</td>\n",
       "      <td>High</td>\n",
       "      <td>Immediate</td>\n",
       "    </tr>\n",
       "    <tr>\n",
       "      <th>3</th>\n",
       "      <td>ST2023-009</td>\n",
       "      <td>Despite being in close proximity to my Wi-Fi r...</td>\n",
       "      <td>Network</td>\n",
       "      <td>Wi-Fi</td>\n",
       "      <td>Medium</td>\n",
       "      <td>24 Hours</td>\n",
       "    </tr>\n",
       "    <tr>\n",
       "      <th>4</th>\n",
       "      <td>ST2023-010</td>\n",
       "      <td>My smartphone battery is draining rapidly, eve...</td>\n",
       "      <td>Hardware</td>\n",
       "      <td>Smartphone, Battery</td>\n",
       "      <td>Medium</td>\n",
       "      <td>24 Hours</td>\n",
       "    </tr>\n",
       "    <tr>\n",
       "      <th>5</th>\n",
       "      <td>ST2023-011</td>\n",
       "      <td>I'm locked out of my online banking account an...</td>\n",
       "      <td>Software</td>\n",
       "      <td>Online Banking, Password Reset</td>\n",
       "      <td>High</td>\n",
       "      <td>Immediate</td>\n",
       "    </tr>\n",
       "    <tr>\n",
       "      <th>6</th>\n",
       "      <td>ST2023-012</td>\n",
       "      <td>My computer's performance is sluggish, severel...</td>\n",
       "      <td>Software</td>\n",
       "      <td>Performance</td>\n",
       "      <td>High</td>\n",
       "      <td>24 Hours</td>\n",
       "    </tr>\n",
       "    <tr>\n",
       "      <th>7</th>\n",
       "      <td>ST2023-013</td>\n",
       "      <td>I'm experiencing a recurring blue screen error...</td>\n",
       "      <td>Hardware</td>\n",
       "      <td>Blue Screen Error</td>\n",
       "      <td>High</td>\n",
       "      <td>Immediate</td>\n",
       "    </tr>\n",
       "    <tr>\n",
       "      <th>8</th>\n",
       "      <td>ST2023-014</td>\n",
       "      <td>My external hard drive isn't being recognized ...</td>\n",
       "      <td>Hardware</td>\n",
       "      <td>External Hard Drive</td>\n",
       "      <td>High</td>\n",
       "      <td>Immediate</td>\n",
       "    </tr>\n",
       "    <tr>\n",
       "      <th>9</th>\n",
       "      <td>ST2023-015</td>\n",
       "      <td>The graphics card in my gaming laptop seems to...</td>\n",
       "      <td>Hardware</td>\n",
       "      <td>Graphics Card</td>\n",
       "      <td>Medium</td>\n",
       "      <td>24 Hours</td>\n",
       "    </tr>\n",
       "    <tr>\n",
       "      <th>10</th>\n",
       "      <td>ST2023-016</td>\n",
       "      <td>I accidentally formatted my USB drive with cri...</td>\n",
       "      <td>Hardware</td>\n",
       "      <td>Data Recovery, USB Drive</td>\n",
       "      <td>High</td>\n",
       "      <td>Immediate</td>\n",
       "    </tr>\n",
       "    <tr>\n",
       "      <th>11</th>\n",
       "      <td>ST2023-017</td>\n",
       "      <td>My computer's screen has gone black, and I can...</td>\n",
       "      <td>Hardware</td>\n",
       "      <td>Computer, Screen</td>\n",
       "      <td>High</td>\n",
       "      <td>Immediate</td>\n",
       "    </tr>\n",
       "    <tr>\n",
       "      <th>12</th>\n",
       "      <td>ST2023-018</td>\n",
       "      <td>I accidentally spilled water on my laptop, and...</td>\n",
       "      <td>Hardware</td>\n",
       "      <td>Laptop</td>\n",
       "      <td>High</td>\n",
       "      <td>Immediate</td>\n",
       "    </tr>\n",
       "    <tr>\n",
       "      <th>13</th>\n",
       "      <td>ST2023-019</td>\n",
       "      <td>My USB flash drive is physically damaged, and ...</td>\n",
       "      <td>Hardware</td>\n",
       "      <td>USB</td>\n",
       "      <td>High</td>\n",
       "      <td>Immediate</td>\n",
       "    </tr>\n",
       "    <tr>\n",
       "      <th>14</th>\n",
       "      <td>ST2023-020</td>\n",
       "      <td>The touchpad on my laptop has stopped working,...</td>\n",
       "      <td>Hardware</td>\n",
       "      <td>Touchpad</td>\n",
       "      <td>Medium</td>\n",
       "      <td>24 Hours</td>\n",
       "    </tr>\n",
       "    <tr>\n",
       "      <th>15</th>\n",
       "      <td>ST2023-021</td>\n",
       "      <td>My internet connection is frequently dropping,...</td>\n",
       "      <td>Network</td>\n",
       "      <td>Internet, Connection</td>\n",
       "      <td>High</td>\n",
       "      <td>Immediate</td>\n",
       "    </tr>\n",
       "    <tr>\n",
       "      <th>16</th>\n",
       "      <td>ST2023-022</td>\n",
       "      <td>Wi-Fi is inconsistent despite proximity to the...</td>\n",
       "      <td>Network</td>\n",
       "      <td>Wi-Fi</td>\n",
       "      <td>Medium</td>\n",
       "      <td>24 Hours</td>\n",
       "    </tr>\n",
       "    <tr>\n",
       "      <th>17</th>\n",
       "      <td>ST2023-023</td>\n",
       "      <td>I accidentally formatted my USB drive with cru...</td>\n",
       "      <td>Hardware</td>\n",
       "      <td>Data Recovery, USB Drive</td>\n",
       "      <td>High</td>\n",
       "      <td>Immediate</td>\n",
       "    </tr>\n",
       "    <tr>\n",
       "      <th>18</th>\n",
       "      <td>ST2023-024</td>\n",
       "      <td>My external hard drive isn't being recognized,...</td>\n",
       "      <td>Hardware</td>\n",
       "      <td>External Hard Drive</td>\n",
       "      <td>High</td>\n",
       "      <td>Immediate</td>\n",
       "    </tr>\n",
       "    <tr>\n",
       "      <th>19</th>\n",
       "      <td>ST2023-025</td>\n",
       "      <td>I am experiencing a critical problem with my i...</td>\n",
       "      <td>Network</td>\n",
       "      <td>Internet, Connectivity</td>\n",
       "      <td>High</td>\n",
       "      <td>Immediate</td>\n",
       "    </tr>\n",
       "    <tr>\n",
       "      <th>20</th>\n",
       "      <td>ST2023-026</td>\n",
       "      <td>I hope this message finds you well. I am writi...</td>\n",
       "      <td>Software</td>\n",
       "      <td>[software, application, crashes]</td>\n",
       "      <td>High</td>\n",
       "      <td>Immediate</td>\n",
       "    </tr>\n",
       "  </tbody>\n",
       "</table>\n",
       "</div>"
      ],
      "text/plain": [
       "   support_tick_id                                support_ticket_text  \\\n",
       "0       ST2023-006  My internet connection has significantly slowe...   \n",
       "1       ST2023-007  Urgent help required! My laptop refuses to sta...   \n",
       "2       ST2023-008  I've accidentally deleted essential work docum...   \n",
       "3       ST2023-009  Despite being in close proximity to my Wi-Fi r...   \n",
       "4       ST2023-010  My smartphone battery is draining rapidly, eve...   \n",
       "5       ST2023-011  I'm locked out of my online banking account an...   \n",
       "6       ST2023-012  My computer's performance is sluggish, severel...   \n",
       "7       ST2023-013  I'm experiencing a recurring blue screen error...   \n",
       "8       ST2023-014  My external hard drive isn't being recognized ...   \n",
       "9       ST2023-015  The graphics card in my gaming laptop seems to...   \n",
       "10      ST2023-016  I accidentally formatted my USB drive with cri...   \n",
       "11      ST2023-017  My computer's screen has gone black, and I can...   \n",
       "12      ST2023-018  I accidentally spilled water on my laptop, and...   \n",
       "13      ST2023-019  My USB flash drive is physically damaged, and ...   \n",
       "14      ST2023-020  The touchpad on my laptop has stopped working,...   \n",
       "15      ST2023-021  My internet connection is frequently dropping,...   \n",
       "16      ST2023-022  Wi-Fi is inconsistent despite proximity to the...   \n",
       "17      ST2023-023  I accidentally formatted my USB drive with cru...   \n",
       "18      ST2023-024  My external hard drive isn't being recognized,...   \n",
       "19      ST2023-025  I am experiencing a critical problem with my i...   \n",
       "20      ST2023-026  I hope this message finds you well. I am writi...   \n",
       "\n",
       "    Category                              Tags Priority        ETA  \n",
       "0    Network            Internet, Connectivity     High  Immediate  \n",
       "1   Hardware                            Laptop     High  Immediate  \n",
       "2   Software                         Data Loss     High  Immediate  \n",
       "3    Network                             Wi-Fi   Medium   24 Hours  \n",
       "4   Hardware               Smartphone, Battery   Medium   24 Hours  \n",
       "5   Software    Online Banking, Password Reset     High  Immediate  \n",
       "6   Software                       Performance     High   24 Hours  \n",
       "7   Hardware                 Blue Screen Error     High  Immediate  \n",
       "8   Hardware               External Hard Drive     High  Immediate  \n",
       "9   Hardware                     Graphics Card   Medium   24 Hours  \n",
       "10  Hardware          Data Recovery, USB Drive     High  Immediate  \n",
       "11  Hardware                  Computer, Screen     High  Immediate  \n",
       "12  Hardware                            Laptop     High  Immediate  \n",
       "13  Hardware                               USB     High  Immediate  \n",
       "14  Hardware                          Touchpad   Medium   24 Hours  \n",
       "15   Network              Internet, Connection     High  Immediate  \n",
       "16   Network                             Wi-Fi   Medium   24 Hours  \n",
       "17  Hardware          Data Recovery, USB Drive     High  Immediate  \n",
       "18  Hardware               External Hard Drive     High  Immediate  \n",
       "19   Network            Internet, Connectivity     High  Immediate  \n",
       "20  Software  [software, application, crashes]     High  Immediate  "
      ]
     },
     "execution_count": 49,
     "metadata": {},
     "output_type": "execute_result"
    }
   ],
   "source": [
    "# Print 'final_data_3' dataset\n",
    "\n",
    "final_data_3"
   ]
  },
  {
   "cell_type": "markdown",
   "metadata": {},
   "source": [
    "#### Observations:\n",
    "\n",
    "Model categorization, tags, priority, and ETA fields appear accurate and correctly-formatted."
   ]
  },
  {
   "cell_type": "markdown",
   "metadata": {
    "id": "f7m73qRcne4g"
   },
   "source": [
    "## **Task 4 - Creating a Draft Response**"
   ]
  },
  {
   "cell_type": "code",
   "execution_count": 98,
   "metadata": {
    "id": "tDe0fY0tnpCS"
   },
   "outputs": [],
   "source": [
    "# Create a fourth copy of the dataset\n",
    "\n",
    "data_4 = data.copy()"
   ]
  },
  {
   "cell_type": "code",
   "execution_count": 99,
   "metadata": {
    "id": "czJxKYmGlG98"
   },
   "outputs": [],
   "source": [
    "# Define the response function for creating draft responses for each support ticket iterating upon the function 'response_3' and increasing token limits\n",
    "\n",
    "def response_4(prompt,ticket):\n",
    "    model_output = llm(\n",
    "      f\"\"\"\n",
    "      Q: {prompt}\n",
    "      A: {ticket}\n",
    "      \"\"\",\n",
    "      max_tokens=400,\n",
    "      stop=[\"None\"],\n",
    "      temperature=0.2,\n",
    "      echo=False,\n",
    "    )\n",
    "\n",
    "    temp_output = model_output[\"choices\"][0][\"text\"]\n",
    "    final_output = temp_output[temp_output.index('{'):]\n",
    "\n",
    "    return final_output"
   ]
  },
  {
   "cell_type": "code",
   "execution_count": 100,
   "metadata": {},
   "outputs": [],
   "source": [
    "prompt_4 = \"\"\"\n",
    "You are a support ticket classification system. Your task is to read the dataset \"data_4\" and focus on the 'support_ticket_text' cells. For each support ticket, provide the following details:\n",
    "\n",
    "1. **Category**: Determine the type of issue from these options: \"Hardware,\" \"Software,\" or \"Network.\" Assign the most appropriate category to each support ticket.\n",
    "2. **Tags**: Extract relevant terms from the support ticket text and assign the single most important term as a tag for each support ticket.\n",
    "3. **Priority**: Rate the level of priority based on urgency from these 3 options: \"Low\", \"Medium\", or \"High\".\n",
    "4. **ETA**: Assign an estimated time for resolution from these 3 options: \"2-3 Business Days,\" \"24 Hours,\" or \"Immediate.\"\n",
    "5. **Response**: Provide a precise response explaining how the issue in the support ticket text can be resolved. Ensure that the response is a valid JSON string, escaping any necessary characters.\n",
    "\n",
    "Do not output anything other than the category, tags, priority, ETA, and response for each support ticket.\n",
    "\n",
    "Please format the output as a JSON object like this (without any extra commas or characters):\n",
    "\n",
    "{\n",
    "  \"Category\": \"<category>\",\n",
    "  \"Tags\": \"<tags>\",\n",
    "  \"Priority\": \"<priority>\",\n",
    "  \"ETA\": \"<eta>\",\n",
    "  \"Response\": \"<response>\"\n",
    "}\n",
    "\n",
    "Ensure that the JSON object is complete and correctly formatted with a single final curly bracket \"}\" at the end. The number of words in the response should be less than 48.\n",
    "\n",
    "Here are some examples:\n",
    "\n",
    "Support ticket: \"My laptop has struggled to run the latest version of Microsoft Excel.\"\n",
    "{\n",
    "  \"Category\": \"Software\",\n",
    "  \"Tags\": \"Excel\",\n",
    "  \"Priority\": \"Low\",\n",
    "  \"ETA\": \"2-3 Business Days\",\n",
    "  \"Response\": \"Please restart your laptop and install the latest updates for Microsoft Excel. If the problem persists, contact our support team for further assistance.\"\n",
    "}\n",
    "\n",
    "Support ticket: \"My internet connection has significantly slowed down.\"\n",
    "{\n",
    "  \"Category\": \"Network\",\n",
    "  \"Tags\": \"Internet\",\n",
    "  \"Priority\": \"Medium\",\n",
    "  \"ETA\": \"24 Hours\",\n",
    "  \"Response\": \"Please restart your router. If the problem persists, contact our support team for further assistance.\"\n",
    "}\n",
    "\n",
    "Support ticket: \"Urgent help required! My laptop refuses to start.\"\n",
    "{\n",
    "  \"Category\": \"Hardware\",\n",
    "  \"Tags\": \"Laptop\",\n",
    "  \"Priority\": \"High\",\n",
    "  \"ETA\": \"Immediate\",\n",
    "  \"Response\": \"Please check if the power cable is connected properly. If the laptop still does not start, please visit our service center immediately.\"\n",
    "}\n",
    "\n",
    "Support ticket: \"I am experiencing intermittent internet disconnections.\"\n",
    "{\n",
    "  \"Category\": \"Network\",\n",
    "  \"Tags\": \"Internet, Disconnections\",\n",
    "  \"Priority\": \"High\",\n",
    "  \"ETA\": \"Immediate\",\n",
    "  \"Response\": \"We apologize for the inconvenience you're experiencing with your internet connection. We recommend checking the following:\\\\n1. Ensure all cables are securely connected to the modem and router.\\\\n2. Restart both the modem and router.\\\\n3. Check if there are any ongoing network maintenance or outages in your area.\\\\n4. If the problem persists, please contact our support team for further assistance.\"\n",
    "}\n",
    "\n",
    "Now, process the following support ticket:\n",
    "\n",
    "Support ticket: {ticket}\n",
    "\"\"\""
   ]
  },
  {
   "cell_type": "code",
   "execution_count": null,
   "metadata": {
    "id": "L3UBRIwcnqg8"
   },
   "outputs": [],
   "source": [
    "# Apply the response_4 function to each support ticket text in the DataFrame and store the model's response in a new column 'model_response'\n",
    "\n",
    "start = time.time()\n",
    "data_4['model_response'] = data_4['support_ticket_text'].apply(lambda x: response_4(prompt_4, x))\n",
    "end = time.time()"
   ]
  },
  {
   "cell_type": "code",
   "execution_count": 102,
   "metadata": {
    "id": "bDtIp9Hmlf9l"
   },
   "outputs": [
    {
     "name": "stdout",
     "output_type": "stream",
     "text": [
      "Time Taken: 262.94117307662964 seconds\n"
     ]
    }
   ],
   "source": [
    "# Display total time taken for model to complete the task\n",
    "\n",
    "print(\"Time Taken:\",(end-start), \"seconds\")"
   ]
  },
  {
   "cell_type": "code",
   "execution_count": 103,
   "metadata": {
    "id": "PyIBbCkcnqeY"
   },
   "outputs": [
    {
     "data": {
      "text/html": [
       "<div>\n",
       "<style scoped>\n",
       "    .dataframe tbody tr th:only-of-type {\n",
       "        vertical-align: middle;\n",
       "    }\n",
       "\n",
       "    .dataframe tbody tr th {\n",
       "        vertical-align: top;\n",
       "    }\n",
       "\n",
       "    .dataframe thead th {\n",
       "        text-align: right;\n",
       "    }\n",
       "</style>\n",
       "<table border=\"1\" class=\"dataframe\">\n",
       "  <thead>\n",
       "    <tr style=\"text-align: right;\">\n",
       "      <th></th>\n",
       "      <th>support_tick_id</th>\n",
       "      <th>support_ticket_text</th>\n",
       "      <th>model_response</th>\n",
       "    </tr>\n",
       "  </thead>\n",
       "  <tbody>\n",
       "    <tr>\n",
       "      <th>0</th>\n",
       "      <td>ST2023-006</td>\n",
       "      <td>My internet connection has significantly slowe...</td>\n",
       "      <td>{\\n        \"Category\": \"Network\",\\n        \"Ta...</td>\n",
       "    </tr>\n",
       "    <tr>\n",
       "      <th>1</th>\n",
       "      <td>ST2023-007</td>\n",
       "      <td>Urgent help required! My laptop refuses to sta...</td>\n",
       "      <td>{\\n        \"Category\": \"Hardware\",\\n        \"T...</td>\n",
       "    </tr>\n",
       "    <tr>\n",
       "      <th>2</th>\n",
       "      <td>ST2023-008</td>\n",
       "      <td>I've accidentally deleted essential work docum...</td>\n",
       "      <td>{\\n        \"Category\": \"Software\",\\n        \"T...</td>\n",
       "    </tr>\n",
       "    <tr>\n",
       "      <th>3</th>\n",
       "      <td>ST2023-009</td>\n",
       "      <td>Despite being in close proximity to my Wi-Fi r...</td>\n",
       "      <td>{\\n        \"Category\": \"Network\",\\n        \"Ta...</td>\n",
       "    </tr>\n",
       "    <tr>\n",
       "      <th>4</th>\n",
       "      <td>ST2023-010</td>\n",
       "      <td>My smartphone battery is draining rapidly, eve...</td>\n",
       "      <td>{\\n        \"Category\": \"Hardware\",\\n        \"T...</td>\n",
       "    </tr>\n",
       "  </tbody>\n",
       "</table>\n",
       "</div>"
      ],
      "text/plain": [
       "  support_tick_id                                support_ticket_text  \\\n",
       "0      ST2023-006  My internet connection has significantly slowe...   \n",
       "1      ST2023-007  Urgent help required! My laptop refuses to sta...   \n",
       "2      ST2023-008  I've accidentally deleted essential work docum...   \n",
       "3      ST2023-009  Despite being in close proximity to my Wi-Fi r...   \n",
       "4      ST2023-010  My smartphone battery is draining rapidly, eve...   \n",
       "\n",
       "                                      model_response  \n",
       "0  {\\n        \"Category\": \"Network\",\\n        \"Ta...  \n",
       "1  {\\n        \"Category\": \"Hardware\",\\n        \"T...  \n",
       "2  {\\n        \"Category\": \"Software\",\\n        \"T...  \n",
       "3  {\\n        \"Category\": \"Network\",\\n        \"Ta...  \n",
       "4  {\\n        \"Category\": \"Hardware\",\\n        \"T...  "
      ]
     },
     "execution_count": 103,
     "metadata": {},
     "output_type": "execute_result"
    }
   ],
   "source": [
    "# Check the first five rows of the 'data_4' to confirm whether the new column has been added\n",
    "\n",
    "data_4.head()"
   ]
  },
  {
   "cell_type": "code",
   "execution_count": 104,
   "metadata": {
    "id": "RWkqPHtinqcD"
   },
   "outputs": [
    {
     "name": "stdout",
     "output_type": "stream",
     "text": [
      "I hope this message finds you well. I am writing to report a perplexing issue I've encountered with my work computer in recent days. \n",
      "The problem seems to involve a combination of unusual software behavior and unexpected data loss.\n",
      "Over the past week, I've observed that certain software applications on my computer have been \n",
      "behaving erratically. For example, some applications freeze randomly, while others exhibit unexplained crashes. Additionally, \n",
      "I've noticed that some files and documents that were previously saved on my desktop have mysteriously \n",
      "disappeared. These issues are causing significant disruptions to my daily tasks and workflow.\n",
      "While I don't have specific instructions on how to resolve this complex problem,\n",
      "I suspect there may be an underlying issue with the system or software compatibility. \n",
      "I kindly request your expertise and assistance in thoroughly diagnosing this intricate problem. \n",
      "Your insights and guidance would be greatly appreciated. If you require any additional information \n",
      "or access to my computer for remote diagnostics, please do not hesitate to let me know.\n",
      "I understand that this issue may require some time and effort to address, and I am fully prepared \n",
      "to cooperate and provide any necessary information to facilitate the resolution process. Thank you in advance for your attention to this matter, and I look forward to your response.\n"
     ]
    }
   ],
   "source": [
    "# Print support ticket text based on value 'i' for location of ticket within rows of 'data_4'\n",
    "\n",
    "i = 20\n",
    "print(data_4.loc[i, 'support_ticket_text'])"
   ]
  },
  {
   "cell_type": "code",
   "execution_count": 105,
   "metadata": {
    "id": "3uPa8jt8nqZq"
   },
   "outputs": [
    {
     "name": "stdout",
     "output_type": "stream",
     "text": [
      "{\n",
      "  \"Category\": \"Software\",\n",
      "  \"Tags\": [\"Software\", \"Applications\", \"Data loss\"],\n",
      "  \"Priority\": \"High\",\n",
      "  \"ETA\": \"24 Hours\",\n",
      "  \"Response\": \"We apologize for the inconvenience you're experiencing with your software applications and data loss. To help diagnose the issue, we recommend performing the following steps:\\n1. Run a full system scan using an antivirus program to check for any potential malware or viruses.\\n2. Check for any recent software updates that may address the observed issues. Install these updates if available.\\n3. Perform a clean boot of your computer to isolate any third-party applications that might be causing conflicts.\\n4. If the problem persists, please provide us with more details about the affected applications and the specific error messages you encounter. Additionally, please share any relevant system information such as operating system version, installed software, and hardware configuration.\"\n",
      "}\n"
     ]
    }
   ],
   "source": [
    "# Print model response for corresponding support ticket at value 'i'\n",
    "\n",
    "print(data_4.loc[i, 'model_response'])"
   ]
  },
  {
   "cell_type": "markdown",
   "metadata": {},
   "source": [
    "#### Observations:\n",
    "\n",
    "Model category classification is correct, the tag is relevant, the priority is correct, and the ETA appears reasonable. Model's response is appropriate and comprehensive."
   ]
  },
  {
   "cell_type": "code",
   "execution_count": 106,
   "metadata": {},
   "outputs": [
    {
     "data": {
      "text/plain": [
       "0     {'Category': 'Network', 'Tags': 'Internet, Dis...\n",
       "1     {'Category': 'Hardware', 'Tags': 'Laptop', 'Pr...\n",
       "2     {'Category': 'Software', 'Tags': 'Data Loss, R...\n",
       "3     {'Category': 'Network', 'Tags': 'Wi-Fi, Signal...\n",
       "4     {'Category': 'Hardware', 'Tags': 'Smartphone, ...\n",
       "5     {'Category': 'Software', 'Tags': 'Online Banki...\n",
       "6     {'Category': 'Software', 'Tags': 'Performance,...\n",
       "7     {'Category': 'Hardware', 'Tags': 'Blue Screen ...\n",
       "8     {'Category': 'Hardware', 'Tags': 'External Har...\n",
       "9     {'Category': 'Hardware', 'Tags': 'Graphics Car...\n",
       "10    {'Category': 'Hardware', 'Tags': 'Data Recover...\n",
       "11    {'Category': 'Hardware', 'Tags': 'Computer, Sc...\n",
       "12    {'Category': 'Hardware', 'Tags': 'Laptop, Wate...\n",
       "13    {'Category': 'Hardware', 'Tags': 'USB, Damage'...\n",
       "14    {'Category': 'Hardware', 'Tags': 'Touchpad, La...\n",
       "15    {'Category': 'Network', 'Tags': 'Internet, Dro...\n",
       "16    {'Category': 'Network', 'Tags': 'Wi-Fi, Incons...\n",
       "17    {'Category': 'Hardware', 'Tags': 'Data Recover...\n",
       "18    {'Category': 'Hardware', 'Tags': 'External Har...\n",
       "19    {'Category': 'Network', 'Tags': ['Internet', '...\n",
       "20    {'Category': 'Software', 'Tags': ['Software', ...\n",
       "Name: model_response_parsed, dtype: object"
      ]
     },
     "execution_count": 106,
     "metadata": {},
     "output_type": "execute_result"
    }
   ],
   "source": [
    "# Apply 'extract_json_data' function to 'model_response' column and print all rows to ensure new column 'model_response_parsed' is formatted correctly\n",
    "\n",
    "data_4['model_response_parsed'] = data_4['model_response'].apply(extract_json_data)\n",
    "data_4['model_response_parsed']"
   ]
  },
  {
   "cell_type": "code",
   "execution_count": 107,
   "metadata": {},
   "outputs": [
    {
     "data": {
      "text/html": [
       "<div>\n",
       "<style scoped>\n",
       "    .dataframe tbody tr th:only-of-type {\n",
       "        vertical-align: middle;\n",
       "    }\n",
       "\n",
       "    .dataframe tbody tr th {\n",
       "        vertical-align: top;\n",
       "    }\n",
       "\n",
       "    .dataframe thead th {\n",
       "        text-align: right;\n",
       "    }\n",
       "</style>\n",
       "<table border=\"1\" class=\"dataframe\">\n",
       "  <thead>\n",
       "    <tr style=\"text-align: right;\">\n",
       "      <th></th>\n",
       "      <th>Category</th>\n",
       "      <th>Tags</th>\n",
       "      <th>Priority</th>\n",
       "      <th>ETA</th>\n",
       "      <th>Response</th>\n",
       "    </tr>\n",
       "  </thead>\n",
       "  <tbody>\n",
       "    <tr>\n",
       "      <th>0</th>\n",
       "      <td>Network</td>\n",
       "      <td>Internet, Disconnections</td>\n",
       "      <td>High</td>\n",
       "      <td>Immediate</td>\n",
       "      <td>We apologize for the inconvenience you're expe...</td>\n",
       "    </tr>\n",
       "    <tr>\n",
       "      <th>1</th>\n",
       "      <td>Hardware</td>\n",
       "      <td>Laptop</td>\n",
       "      <td>High</td>\n",
       "      <td>Immediate</td>\n",
       "      <td>We understand the urgency of your situation an...</td>\n",
       "    </tr>\n",
       "    <tr>\n",
       "      <th>2</th>\n",
       "      <td>Software</td>\n",
       "      <td>Data Loss, Recovery</td>\n",
       "      <td>High</td>\n",
       "      <td>2-3 Business Days</td>\n",
       "      <td>We're sorry for the data loss you've experienc...</td>\n",
       "    </tr>\n",
       "    <tr>\n",
       "      <th>3</th>\n",
       "      <td>Network</td>\n",
       "      <td>Wi-Fi, Signal</td>\n",
       "      <td>Medium</td>\n",
       "      <td>24 Hours</td>\n",
       "      <td>We apologize for the inconvenience you're expe...</td>\n",
       "    </tr>\n",
       "    <tr>\n",
       "      <th>4</th>\n",
       "      <td>Hardware</td>\n",
       "      <td>Smartphone, Battery</td>\n",
       "      <td>Medium</td>\n",
       "      <td>2-3 Business Days</td>\n",
       "      <td>We recommend checking the following:\\n1. Ensur...</td>\n",
       "    </tr>\n",
       "  </tbody>\n",
       "</table>\n",
       "</div>"
      ],
      "text/plain": [
       "   Category                      Tags Priority                ETA  \\\n",
       "0   Network  Internet, Disconnections     High          Immediate   \n",
       "1  Hardware                    Laptop     High          Immediate   \n",
       "2  Software       Data Loss, Recovery     High  2-3 Business Days   \n",
       "3   Network             Wi-Fi, Signal   Medium           24 Hours   \n",
       "4  Hardware       Smartphone, Battery   Medium  2-3 Business Days   \n",
       "\n",
       "                                            Response  \n",
       "0  We apologize for the inconvenience you're expe...  \n",
       "1  We understand the urgency of your situation an...  \n",
       "2  We're sorry for the data loss you've experienc...  \n",
       "3  We apologize for the inconvenience you're expe...  \n",
       "4  We recommend checking the following:\\n1. Ensur...  "
      ]
     },
     "execution_count": 107,
     "metadata": {},
     "output_type": "execute_result"
    }
   ],
   "source": [
    "# Normalizing the 'model_response_parsed_df_3' column using the 'json_normalize' function in pandas\n",
    "\n",
    "model_response_parsed_df_4 = pd.json_normalize(data_4['model_response_parsed'])\n",
    "model_response_parsed_df_4.head()"
   ]
  },
  {
   "cell_type": "code",
   "execution_count": 108,
   "metadata": {},
   "outputs": [
    {
     "data": {
      "text/html": [
       "<div>\n",
       "<style scoped>\n",
       "    .dataframe tbody tr th:only-of-type {\n",
       "        vertical-align: middle;\n",
       "    }\n",
       "\n",
       "    .dataframe tbody tr th {\n",
       "        vertical-align: top;\n",
       "    }\n",
       "\n",
       "    .dataframe thead th {\n",
       "        text-align: right;\n",
       "    }\n",
       "</style>\n",
       "<table border=\"1\" class=\"dataframe\">\n",
       "  <thead>\n",
       "    <tr style=\"text-align: right;\">\n",
       "      <th></th>\n",
       "      <th>support_tick_id</th>\n",
       "      <th>support_ticket_text</th>\n",
       "      <th>model_response</th>\n",
       "      <th>model_response_parsed</th>\n",
       "      <th>Category</th>\n",
       "      <th>Tags</th>\n",
       "      <th>Priority</th>\n",
       "      <th>ETA</th>\n",
       "      <th>Response</th>\n",
       "    </tr>\n",
       "  </thead>\n",
       "  <tbody>\n",
       "    <tr>\n",
       "      <th>0</th>\n",
       "      <td>ST2023-006</td>\n",
       "      <td>My internet connection has significantly slowe...</td>\n",
       "      <td>{\\n        \"Category\": \"Network\",\\n        \"Ta...</td>\n",
       "      <td>{'Category': 'Network', 'Tags': 'Internet, Dis...</td>\n",
       "      <td>Network</td>\n",
       "      <td>Internet, Disconnections</td>\n",
       "      <td>High</td>\n",
       "      <td>Immediate</td>\n",
       "      <td>We apologize for the inconvenience you're expe...</td>\n",
       "    </tr>\n",
       "    <tr>\n",
       "      <th>1</th>\n",
       "      <td>ST2023-007</td>\n",
       "      <td>Urgent help required! My laptop refuses to sta...</td>\n",
       "      <td>{\\n        \"Category\": \"Hardware\",\\n        \"T...</td>\n",
       "      <td>{'Category': 'Hardware', 'Tags': 'Laptop', 'Pr...</td>\n",
       "      <td>Hardware</td>\n",
       "      <td>Laptop</td>\n",
       "      <td>High</td>\n",
       "      <td>Immediate</td>\n",
       "      <td>We understand the urgency of your situation an...</td>\n",
       "    </tr>\n",
       "    <tr>\n",
       "      <th>2</th>\n",
       "      <td>ST2023-008</td>\n",
       "      <td>I've accidentally deleted essential work docum...</td>\n",
       "      <td>{\\n        \"Category\": \"Software\",\\n        \"T...</td>\n",
       "      <td>{'Category': 'Software', 'Tags': 'Data Loss, R...</td>\n",
       "      <td>Software</td>\n",
       "      <td>Data Loss, Recovery</td>\n",
       "      <td>High</td>\n",
       "      <td>2-3 Business Days</td>\n",
       "      <td>We're sorry for the data loss you've experienc...</td>\n",
       "    </tr>\n",
       "    <tr>\n",
       "      <th>3</th>\n",
       "      <td>ST2023-009</td>\n",
       "      <td>Despite being in close proximity to my Wi-Fi r...</td>\n",
       "      <td>{\\n        \"Category\": \"Network\",\\n        \"Ta...</td>\n",
       "      <td>{'Category': 'Network', 'Tags': 'Wi-Fi, Signal...</td>\n",
       "      <td>Network</td>\n",
       "      <td>Wi-Fi, Signal</td>\n",
       "      <td>Medium</td>\n",
       "      <td>24 Hours</td>\n",
       "      <td>We apologize for the inconvenience you're expe...</td>\n",
       "    </tr>\n",
       "    <tr>\n",
       "      <th>4</th>\n",
       "      <td>ST2023-010</td>\n",
       "      <td>My smartphone battery is draining rapidly, eve...</td>\n",
       "      <td>{\\n        \"Category\": \"Hardware\",\\n        \"T...</td>\n",
       "      <td>{'Category': 'Hardware', 'Tags': 'Smartphone, ...</td>\n",
       "      <td>Hardware</td>\n",
       "      <td>Smartphone, Battery</td>\n",
       "      <td>Medium</td>\n",
       "      <td>2-3 Business Days</td>\n",
       "      <td>We recommend checking the following:\\n1. Ensur...</td>\n",
       "    </tr>\n",
       "  </tbody>\n",
       "</table>\n",
       "</div>"
      ],
      "text/plain": [
       "  support_tick_id                                support_ticket_text  \\\n",
       "0      ST2023-006  My internet connection has significantly slowe...   \n",
       "1      ST2023-007  Urgent help required! My laptop refuses to sta...   \n",
       "2      ST2023-008  I've accidentally deleted essential work docum...   \n",
       "3      ST2023-009  Despite being in close proximity to my Wi-Fi r...   \n",
       "4      ST2023-010  My smartphone battery is draining rapidly, eve...   \n",
       "\n",
       "                                      model_response  \\\n",
       "0  {\\n        \"Category\": \"Network\",\\n        \"Ta...   \n",
       "1  {\\n        \"Category\": \"Hardware\",\\n        \"T...   \n",
       "2  {\\n        \"Category\": \"Software\",\\n        \"T...   \n",
       "3  {\\n        \"Category\": \"Network\",\\n        \"Ta...   \n",
       "4  {\\n        \"Category\": \"Hardware\",\\n        \"T...   \n",
       "\n",
       "                               model_response_parsed  Category  \\\n",
       "0  {'Category': 'Network', 'Tags': 'Internet, Dis...   Network   \n",
       "1  {'Category': 'Hardware', 'Tags': 'Laptop', 'Pr...  Hardware   \n",
       "2  {'Category': 'Software', 'Tags': 'Data Loss, R...  Software   \n",
       "3  {'Category': 'Network', 'Tags': 'Wi-Fi, Signal...   Network   \n",
       "4  {'Category': 'Hardware', 'Tags': 'Smartphone, ...  Hardware   \n",
       "\n",
       "                       Tags Priority                ETA  \\\n",
       "0  Internet, Disconnections     High          Immediate   \n",
       "1                    Laptop     High          Immediate   \n",
       "2       Data Loss, Recovery     High  2-3 Business Days   \n",
       "3             Wi-Fi, Signal   Medium           24 Hours   \n",
       "4       Smartphone, Battery   Medium  2-3 Business Days   \n",
       "\n",
       "                                            Response  \n",
       "0  We apologize for the inconvenience you're expe...  \n",
       "1  We understand the urgency of your situation an...  \n",
       "2  We're sorry for the data loss you've experienc...  \n",
       "3  We apologize for the inconvenience you're expe...  \n",
       "4  We recommend checking the following:\\n1. Ensur...  "
      ]
     },
     "execution_count": 108,
     "metadata": {},
     "output_type": "execute_result"
    }
   ],
   "source": [
    "# Concatinating 'data_4' and 'model_response_parsed_df_4' and printing the first 5 rows of the concatonated dataset\n",
    "\n",
    "data_with_parsed_model_output_4 = pd.concat([data_4, model_response_parsed_df_4], axis=1)\n",
    "data_with_parsed_model_output_4.head()"
   ]
  },
  {
   "cell_type": "code",
   "execution_count": 109,
   "metadata": {},
   "outputs": [
    {
     "data": {
      "text/html": [
       "<div>\n",
       "<style scoped>\n",
       "    .dataframe tbody tr th:only-of-type {\n",
       "        vertical-align: middle;\n",
       "    }\n",
       "\n",
       "    .dataframe tbody tr th {\n",
       "        vertical-align: top;\n",
       "    }\n",
       "\n",
       "    .dataframe thead th {\n",
       "        text-align: right;\n",
       "    }\n",
       "</style>\n",
       "<table border=\"1\" class=\"dataframe\">\n",
       "  <thead>\n",
       "    <tr style=\"text-align: right;\">\n",
       "      <th></th>\n",
       "      <th>support_tick_id</th>\n",
       "      <th>support_ticket_text</th>\n",
       "      <th>Category</th>\n",
       "      <th>Tags</th>\n",
       "      <th>Priority</th>\n",
       "      <th>ETA</th>\n",
       "      <th>Response</th>\n",
       "    </tr>\n",
       "  </thead>\n",
       "  <tbody>\n",
       "    <tr>\n",
       "      <th>0</th>\n",
       "      <td>ST2023-006</td>\n",
       "      <td>My internet connection has significantly slowe...</td>\n",
       "      <td>Network</td>\n",
       "      <td>Internet, Disconnections</td>\n",
       "      <td>High</td>\n",
       "      <td>Immediate</td>\n",
       "      <td>We apologize for the inconvenience you're expe...</td>\n",
       "    </tr>\n",
       "    <tr>\n",
       "      <th>1</th>\n",
       "      <td>ST2023-007</td>\n",
       "      <td>Urgent help required! My laptop refuses to sta...</td>\n",
       "      <td>Hardware</td>\n",
       "      <td>Laptop</td>\n",
       "      <td>High</td>\n",
       "      <td>Immediate</td>\n",
       "      <td>We understand the urgency of your situation an...</td>\n",
       "    </tr>\n",
       "    <tr>\n",
       "      <th>2</th>\n",
       "      <td>ST2023-008</td>\n",
       "      <td>I've accidentally deleted essential work docum...</td>\n",
       "      <td>Software</td>\n",
       "      <td>Data Loss, Recovery</td>\n",
       "      <td>High</td>\n",
       "      <td>2-3 Business Days</td>\n",
       "      <td>We're sorry for the data loss you've experienc...</td>\n",
       "    </tr>\n",
       "    <tr>\n",
       "      <th>3</th>\n",
       "      <td>ST2023-009</td>\n",
       "      <td>Despite being in close proximity to my Wi-Fi r...</td>\n",
       "      <td>Network</td>\n",
       "      <td>Wi-Fi, Signal</td>\n",
       "      <td>Medium</td>\n",
       "      <td>24 Hours</td>\n",
       "      <td>We apologize for the inconvenience you're expe...</td>\n",
       "    </tr>\n",
       "    <tr>\n",
       "      <th>4</th>\n",
       "      <td>ST2023-010</td>\n",
       "      <td>My smartphone battery is draining rapidly, eve...</td>\n",
       "      <td>Hardware</td>\n",
       "      <td>Smartphone, Battery</td>\n",
       "      <td>Medium</td>\n",
       "      <td>2-3 Business Days</td>\n",
       "      <td>We recommend checking the following:\\n1. Ensur...</td>\n",
       "    </tr>\n",
       "  </tbody>\n",
       "</table>\n",
       "</div>"
      ],
      "text/plain": [
       "  support_tick_id                                support_ticket_text  \\\n",
       "0      ST2023-006  My internet connection has significantly slowe...   \n",
       "1      ST2023-007  Urgent help required! My laptop refuses to sta...   \n",
       "2      ST2023-008  I've accidentally deleted essential work docum...   \n",
       "3      ST2023-009  Despite being in close proximity to my Wi-Fi r...   \n",
       "4      ST2023-010  My smartphone battery is draining rapidly, eve...   \n",
       "\n",
       "   Category                      Tags Priority                ETA  \\\n",
       "0   Network  Internet, Disconnections     High          Immediate   \n",
       "1  Hardware                    Laptop     High          Immediate   \n",
       "2  Software       Data Loss, Recovery     High  2-3 Business Days   \n",
       "3   Network             Wi-Fi, Signal   Medium           24 Hours   \n",
       "4  Hardware       Smartphone, Battery   Medium  2-3 Business Days   \n",
       "\n",
       "                                            Response  \n",
       "0  We apologize for the inconvenience you're expe...  \n",
       "1  We understand the urgency of your situation an...  \n",
       "2  We're sorry for the data loss you've experienc...  \n",
       "3  We apologize for the inconvenience you're expe...  \n",
       "4  We recommend checking the following:\\n1. Ensur...  "
      ]
     },
     "execution_count": 109,
     "metadata": {},
     "output_type": "execute_result"
    }
   ],
   "source": [
    "# Dropping 'model_response' and 'model_response_parsed' columns\n",
    "\n",
    "final_data_4 = data_with_parsed_model_output_4.drop(['model_response','model_response_parsed'], axis=1)\n",
    "final_data_4.head()"
   ]
  },
  {
   "cell_type": "code",
   "execution_count": 110,
   "metadata": {
    "id": "-azDlrGegrxL"
   },
   "outputs": [],
   "source": [
    "# Rename column names for enhanced readability\n",
    "\n",
    "final_data_4.rename(columns={\"Response\":\"IT Response Message\", \"support_tick_id\":\"Support Ticket ID\", \"support_ticket_text\":\"Support Ticket Text\"},inplace=True)"
   ]
  },
  {
   "cell_type": "code",
   "execution_count": 111,
   "metadata": {},
   "outputs": [
    {
     "data": {
      "text/html": [
       "<div>\n",
       "<style scoped>\n",
       "    .dataframe tbody tr th:only-of-type {\n",
       "        vertical-align: middle;\n",
       "    }\n",
       "\n",
       "    .dataframe tbody tr th {\n",
       "        vertical-align: top;\n",
       "    }\n",
       "\n",
       "    .dataframe thead th {\n",
       "        text-align: right;\n",
       "    }\n",
       "</style>\n",
       "<table border=\"1\" class=\"dataframe\">\n",
       "  <thead>\n",
       "    <tr style=\"text-align: right;\">\n",
       "      <th></th>\n",
       "      <th>Support Ticket ID</th>\n",
       "      <th>Support Ticket Text</th>\n",
       "      <th>Category</th>\n",
       "      <th>Tags</th>\n",
       "      <th>Priority</th>\n",
       "      <th>ETA</th>\n",
       "      <th>IT Response Message</th>\n",
       "    </tr>\n",
       "  </thead>\n",
       "  <tbody>\n",
       "    <tr>\n",
       "      <th>0</th>\n",
       "      <td>ST2023-006</td>\n",
       "      <td>My internet connection has significantly slowe...</td>\n",
       "      <td>Network</td>\n",
       "      <td>Internet, Disconnections</td>\n",
       "      <td>High</td>\n",
       "      <td>Immediate</td>\n",
       "      <td>We apologize for the inconvenience you're expe...</td>\n",
       "    </tr>\n",
       "    <tr>\n",
       "      <th>1</th>\n",
       "      <td>ST2023-007</td>\n",
       "      <td>Urgent help required! My laptop refuses to sta...</td>\n",
       "      <td>Hardware</td>\n",
       "      <td>Laptop</td>\n",
       "      <td>High</td>\n",
       "      <td>Immediate</td>\n",
       "      <td>We understand the urgency of your situation an...</td>\n",
       "    </tr>\n",
       "    <tr>\n",
       "      <th>2</th>\n",
       "      <td>ST2023-008</td>\n",
       "      <td>I've accidentally deleted essential work docum...</td>\n",
       "      <td>Software</td>\n",
       "      <td>Data Loss, Recovery</td>\n",
       "      <td>High</td>\n",
       "      <td>2-3 Business Days</td>\n",
       "      <td>We're sorry for the data loss you've experienc...</td>\n",
       "    </tr>\n",
       "    <tr>\n",
       "      <th>3</th>\n",
       "      <td>ST2023-009</td>\n",
       "      <td>Despite being in close proximity to my Wi-Fi r...</td>\n",
       "      <td>Network</td>\n",
       "      <td>Wi-Fi, Signal</td>\n",
       "      <td>Medium</td>\n",
       "      <td>24 Hours</td>\n",
       "      <td>We apologize for the inconvenience you're expe...</td>\n",
       "    </tr>\n",
       "    <tr>\n",
       "      <th>4</th>\n",
       "      <td>ST2023-010</td>\n",
       "      <td>My smartphone battery is draining rapidly, eve...</td>\n",
       "      <td>Hardware</td>\n",
       "      <td>Smartphone, Battery</td>\n",
       "      <td>Medium</td>\n",
       "      <td>2-3 Business Days</td>\n",
       "      <td>We recommend checking the following:\\n1. Ensur...</td>\n",
       "    </tr>\n",
       "    <tr>\n",
       "      <th>5</th>\n",
       "      <td>ST2023-011</td>\n",
       "      <td>I'm locked out of my online banking account an...</td>\n",
       "      <td>Software</td>\n",
       "      <td>Online Banking, Password Reset</td>\n",
       "      <td>High</td>\n",
       "      <td>Immediate</td>\n",
       "      <td>We're sorry to hear that you've been locked ou...</td>\n",
       "    </tr>\n",
       "    <tr>\n",
       "      <th>6</th>\n",
       "      <td>ST2023-012</td>\n",
       "      <td>My computer's performance is sluggish, severel...</td>\n",
       "      <td>Software</td>\n",
       "      <td>Performance, Optimization</td>\n",
       "      <td>High</td>\n",
       "      <td>24 Hours</td>\n",
       "      <td>We recommend running a system scan using our p...</td>\n",
       "    </tr>\n",
       "    <tr>\n",
       "      <th>7</th>\n",
       "      <td>ST2023-013</td>\n",
       "      <td>I'm experiencing a recurring blue screen error...</td>\n",
       "      <td>Hardware</td>\n",
       "      <td>Blue Screen Error, PC</td>\n",
       "      <td>High</td>\n",
       "      <td>Immediate</td>\n",
       "      <td>We're sorry for the inconvenience you're exper...</td>\n",
       "    </tr>\n",
       "    <tr>\n",
       "      <th>8</th>\n",
       "      <td>ST2023-014</td>\n",
       "      <td>My external hard drive isn't being recognized ...</td>\n",
       "      <td>Hardware</td>\n",
       "      <td>External Hard Drive, Data Recovery</td>\n",
       "      <td>High</td>\n",
       "      <td>Immediate</td>\n",
       "      <td>We understand the urgency of your situation an...</td>\n",
       "    </tr>\n",
       "    <tr>\n",
       "      <th>9</th>\n",
       "      <td>ST2023-015</td>\n",
       "      <td>The graphics card in my gaming laptop seems to...</td>\n",
       "      <td>Hardware</td>\n",
       "      <td>Graphics Card</td>\n",
       "      <td>High</td>\n",
       "      <td>Immediate</td>\n",
       "      <td>We're sorry for the inconvenience you're exper...</td>\n",
       "    </tr>\n",
       "    <tr>\n",
       "      <th>10</th>\n",
       "      <td>ST2023-016</td>\n",
       "      <td>I accidentally formatted my USB drive with cri...</td>\n",
       "      <td>Hardware</td>\n",
       "      <td>Data Recovery, USB Drive</td>\n",
       "      <td>High</td>\n",
       "      <td>24 Hours</td>\n",
       "      <td>We're sorry for your data loss. To recover the...</td>\n",
       "    </tr>\n",
       "    <tr>\n",
       "      <th>11</th>\n",
       "      <td>ST2023-017</td>\n",
       "      <td>My computer's screen has gone black, and I can...</td>\n",
       "      <td>Hardware</td>\n",
       "      <td>Computer, Screen</td>\n",
       "      <td>High</td>\n",
       "      <td>Immediate</td>\n",
       "      <td>We're sorry for the inconvenience you're exper...</td>\n",
       "    </tr>\n",
       "    <tr>\n",
       "      <th>12</th>\n",
       "      <td>ST2023-018</td>\n",
       "      <td>I accidentally spilled water on my laptop, and...</td>\n",
       "      <td>Hardware</td>\n",
       "      <td>Laptop, Water Damage</td>\n",
       "      <td>High</td>\n",
       "      <td>Immediate</td>\n",
       "      <td>We're sorry to hear that your laptop has been ...</td>\n",
       "    </tr>\n",
       "    <tr>\n",
       "      <th>13</th>\n",
       "      <td>ST2023-019</td>\n",
       "      <td>My USB flash drive is physically damaged, and ...</td>\n",
       "      <td>Hardware</td>\n",
       "      <td>USB, Damage</td>\n",
       "      <td>High</td>\n",
       "      <td>Immediate</td>\n",
       "      <td>We're sorry to hear about the damage to your U...</td>\n",
       "    </tr>\n",
       "    <tr>\n",
       "      <th>14</th>\n",
       "      <td>ST2023-020</td>\n",
       "      <td>The touchpad on my laptop has stopped working,...</td>\n",
       "      <td>Hardware</td>\n",
       "      <td>Touchpad, Laptop</td>\n",
       "      <td>Medium</td>\n",
       "      <td>2-3 Business Days</td>\n",
       "      <td>We're sorry for the inconvenience you're exper...</td>\n",
       "    </tr>\n",
       "    <tr>\n",
       "      <th>15</th>\n",
       "      <td>ST2023-021</td>\n",
       "      <td>My internet connection is frequently dropping,...</td>\n",
       "      <td>Network</td>\n",
       "      <td>Internet, Dropouts</td>\n",
       "      <td>High</td>\n",
       "      <td>Immediate</td>\n",
       "      <td>We apologize for the inconvenience you're expe...</td>\n",
       "    </tr>\n",
       "    <tr>\n",
       "      <th>16</th>\n",
       "      <td>ST2023-022</td>\n",
       "      <td>Wi-Fi is inconsistent despite proximity to the...</td>\n",
       "      <td>Network</td>\n",
       "      <td>Wi-Fi, Inconsistent</td>\n",
       "      <td>High</td>\n",
       "      <td>Immediate</td>\n",
       "      <td>We apologize for the inconvenience you're expe...</td>\n",
       "    </tr>\n",
       "    <tr>\n",
       "      <th>17</th>\n",
       "      <td>ST2023-023</td>\n",
       "      <td>I accidentally formatted my USB drive with cru...</td>\n",
       "      <td>Hardware</td>\n",
       "      <td>Data Recovery, USB Drive</td>\n",
       "      <td>High</td>\n",
       "      <td>Immediate</td>\n",
       "      <td>We're sorry to hear that you have accidentally...</td>\n",
       "    </tr>\n",
       "    <tr>\n",
       "      <th>18</th>\n",
       "      <td>ST2023-024</td>\n",
       "      <td>My external hard drive isn't being recognized,...</td>\n",
       "      <td>Hardware</td>\n",
       "      <td>External Hard Drive</td>\n",
       "      <td>High</td>\n",
       "      <td>Immediate</td>\n",
       "      <td>We understand the urgency of your situation an...</td>\n",
       "    </tr>\n",
       "    <tr>\n",
       "      <th>19</th>\n",
       "      <td>ST2023-025</td>\n",
       "      <td>I am experiencing a critical problem with my i...</td>\n",
       "      <td>Network</td>\n",
       "      <td>[Internet, Disconnections]</td>\n",
       "      <td>High</td>\n",
       "      <td>Immediate</td>\n",
       "      <td>We apologize for the inconvenience you're expe...</td>\n",
       "    </tr>\n",
       "    <tr>\n",
       "      <th>20</th>\n",
       "      <td>ST2023-026</td>\n",
       "      <td>I hope this message finds you well. I am writi...</td>\n",
       "      <td>Software</td>\n",
       "      <td>[Software, Applications, Data loss]</td>\n",
       "      <td>High</td>\n",
       "      <td>24 Hours</td>\n",
       "      <td>We apologize for the inconvenience you're expe...</td>\n",
       "    </tr>\n",
       "  </tbody>\n",
       "</table>\n",
       "</div>"
      ],
      "text/plain": [
       "   Support Ticket ID                                Support Ticket Text  \\\n",
       "0         ST2023-006  My internet connection has significantly slowe...   \n",
       "1         ST2023-007  Urgent help required! My laptop refuses to sta...   \n",
       "2         ST2023-008  I've accidentally deleted essential work docum...   \n",
       "3         ST2023-009  Despite being in close proximity to my Wi-Fi r...   \n",
       "4         ST2023-010  My smartphone battery is draining rapidly, eve...   \n",
       "5         ST2023-011  I'm locked out of my online banking account an...   \n",
       "6         ST2023-012  My computer's performance is sluggish, severel...   \n",
       "7         ST2023-013  I'm experiencing a recurring blue screen error...   \n",
       "8         ST2023-014  My external hard drive isn't being recognized ...   \n",
       "9         ST2023-015  The graphics card in my gaming laptop seems to...   \n",
       "10        ST2023-016  I accidentally formatted my USB drive with cri...   \n",
       "11        ST2023-017  My computer's screen has gone black, and I can...   \n",
       "12        ST2023-018  I accidentally spilled water on my laptop, and...   \n",
       "13        ST2023-019  My USB flash drive is physically damaged, and ...   \n",
       "14        ST2023-020  The touchpad on my laptop has stopped working,...   \n",
       "15        ST2023-021  My internet connection is frequently dropping,...   \n",
       "16        ST2023-022  Wi-Fi is inconsistent despite proximity to the...   \n",
       "17        ST2023-023  I accidentally formatted my USB drive with cru...   \n",
       "18        ST2023-024  My external hard drive isn't being recognized,...   \n",
       "19        ST2023-025  I am experiencing a critical problem with my i...   \n",
       "20        ST2023-026  I hope this message finds you well. I am writi...   \n",
       "\n",
       "    Category                                 Tags Priority                ETA  \\\n",
       "0    Network             Internet, Disconnections     High          Immediate   \n",
       "1   Hardware                               Laptop     High          Immediate   \n",
       "2   Software                  Data Loss, Recovery     High  2-3 Business Days   \n",
       "3    Network                        Wi-Fi, Signal   Medium           24 Hours   \n",
       "4   Hardware                  Smartphone, Battery   Medium  2-3 Business Days   \n",
       "5   Software       Online Banking, Password Reset     High          Immediate   \n",
       "6   Software            Performance, Optimization     High           24 Hours   \n",
       "7   Hardware                Blue Screen Error, PC     High          Immediate   \n",
       "8   Hardware   External Hard Drive, Data Recovery     High          Immediate   \n",
       "9   Hardware                        Graphics Card     High          Immediate   \n",
       "10  Hardware             Data Recovery, USB Drive     High           24 Hours   \n",
       "11  Hardware                     Computer, Screen     High          Immediate   \n",
       "12  Hardware                 Laptop, Water Damage     High          Immediate   \n",
       "13  Hardware                          USB, Damage     High          Immediate   \n",
       "14  Hardware                     Touchpad, Laptop   Medium  2-3 Business Days   \n",
       "15   Network                   Internet, Dropouts     High          Immediate   \n",
       "16   Network                  Wi-Fi, Inconsistent     High          Immediate   \n",
       "17  Hardware             Data Recovery, USB Drive     High          Immediate   \n",
       "18  Hardware                  External Hard Drive     High          Immediate   \n",
       "19   Network           [Internet, Disconnections]     High          Immediate   \n",
       "20  Software  [Software, Applications, Data loss]     High           24 Hours   \n",
       "\n",
       "                                  IT Response Message  \n",
       "0   We apologize for the inconvenience you're expe...  \n",
       "1   We understand the urgency of your situation an...  \n",
       "2   We're sorry for the data loss you've experienc...  \n",
       "3   We apologize for the inconvenience you're expe...  \n",
       "4   We recommend checking the following:\\n1. Ensur...  \n",
       "5   We're sorry to hear that you've been locked ou...  \n",
       "6   We recommend running a system scan using our p...  \n",
       "7   We're sorry for the inconvenience you're exper...  \n",
       "8   We understand the urgency of your situation an...  \n",
       "9   We're sorry for the inconvenience you're exper...  \n",
       "10  We're sorry for your data loss. To recover the...  \n",
       "11  We're sorry for the inconvenience you're exper...  \n",
       "12  We're sorry to hear that your laptop has been ...  \n",
       "13  We're sorry to hear about the damage to your U...  \n",
       "14  We're sorry for the inconvenience you're exper...  \n",
       "15  We apologize for the inconvenience you're expe...  \n",
       "16  We apologize for the inconvenience you're expe...  \n",
       "17  We're sorry to hear that you have accidentally...  \n",
       "18  We understand the urgency of your situation an...  \n",
       "19  We apologize for the inconvenience you're expe...  \n",
       "20  We apologize for the inconvenience you're expe...  "
      ]
     },
     "execution_count": 111,
     "metadata": {},
     "output_type": "execute_result"
    }
   ],
   "source": [
    "# Print full Support Ticket Classification dataset\n",
    "\n",
    "final_data_4"
   ]
  },
  {
   "cell_type": "markdown",
   "metadata": {},
   "source": [
    "#### Observations:\n",
    "\n",
    "Model categorization, tags, priority, ETA fields, and responses appear accurate and correctly-formatted."
   ]
  },
  {
   "cell_type": "markdown",
   "metadata": {
    "id": "EQznlJqM2gSk"
   },
   "source": [
    "## **Model Output Analysis**"
   ]
  },
  {
   "cell_type": "code",
   "execution_count": 112,
   "metadata": {
    "id": "rb0BE-W20_0K"
   },
   "outputs": [],
   "source": [
    "# Creating a copy of the dataframe built in task 4\n",
    "\n",
    "final_data = final_data_4.copy()"
   ]
  },
  {
   "cell_type": "code",
   "execution_count": 113,
   "metadata": {
    "id": "txX3gIQ9WZtD"
   },
   "outputs": [
    {
     "data": {
      "text/plain": [
       "Category\n",
       "Hardware    12\n",
       "Network      5\n",
       "Software     4\n",
       "Name: count, dtype: int64"
      ]
     },
     "execution_count": 113,
     "metadata": {},
     "output_type": "execute_result"
    }
   ],
   "source": [
    "# Display value counts for unique category values in 'Category' column in 'final_data'\n",
    "\n",
    "final_data['Category'].value_counts()"
   ]
  },
  {
   "cell_type": "code",
   "execution_count": 114,
   "metadata": {},
   "outputs": [
    {
     "data": {
      "image/png": "[encoded data removed]",
      "text/plain": [
       "<Figure size 800x600 with 1 Axes>"
      ]
     },
     "metadata": {},
     "output_type": "display_data"
    }
   ],
   "source": [
    "plt.figure(figsize=(8, 6))\n",
    "\n",
    "ax = sns.countplot(x='Category', hue='Category', data=final_data, edgecolor=\"black\",palette='viridis')\n",
    "\n",
    "ax.set_title('Support Tickets by Category Type')  # Setting the plot title\n",
    "ax.set_xlabel('Support Ticket Categories')  # Set the x-axis label\n",
    "ax.set_ylabel('')  # Removing the y-axis label\n",
    "\n",
    "# Add number totals above the bar for each class\n",
    "\n",
    "for p in ax.patches:\n",
    "    ax.annotate(format(p.get_height(), '.0f'), \n",
    "                (p.get_x() + p.get_width() / 2., p.get_height()), \n",
    "                ha = 'center', va = 'center', \n",
    "                xytext = (0, 9), \n",
    "                textcoords = 'offset points')\n",
    "\n",
    "plt.tight_layout()\n",
    "plt.show()"
   ]
  },
  {
   "cell_type": "markdown",
   "metadata": {},
   "source": [
    "#### Observations:\n",
    "\n",
    "The model classified **5 tickets as network issues**, **11 tickets as hardware issues**, and **5 tickets as software issues**. Using our dataset, the **model tends to classify most tickets as hardware issues**."
   ]
  },
  {
   "cell_type": "code",
   "execution_count": 115,
   "metadata": {
    "id": "lf-BVS4I2nxJ"
   },
   "outputs": [
    {
     "data": {
      "text/plain": [
       "Priority\n",
       "High      18\n",
       "Medium     3\n",
       "Name: count, dtype: int64"
      ]
     },
     "execution_count": 115,
     "metadata": {},
     "output_type": "execute_result"
    }
   ],
   "source": [
    "# Display value counts for unique category values in 'Priority' column in 'final_data'\n",
    "\n",
    "final_data[\"Priority\"].value_counts()"
   ]
  },
  {
   "cell_type": "code",
   "execution_count": 116,
   "metadata": {},
   "outputs": [
    {
     "data": {
      "image/png": "[encoded data removed]",
      "text/plain": [
       "<Figure size 800x600 with 1 Axes>"
      ]
     },
     "metadata": {},
     "output_type": "display_data"
    }
   ],
   "source": [
    "plt.figure(figsize=(8, 6))\n",
    "\n",
    "ax = sns.countplot(x='Priority', hue='Priority', data=final_data, edgecolor=\"black\",palette='viridis')\n",
    "\n",
    "ax.set_title('Support Ticket Priority Levels')\n",
    "ax.set_xlabel('Priority Levels')\n",
    "ax.set_ylabel('')\n",
    "\n",
    "for p in ax.patches:\n",
    "    ax.annotate(format(p.get_height(), '.0f'), \n",
    "                (p.get_x() + p.get_width() / 2., p.get_height()), \n",
    "                ha = 'center', va = 'center', \n",
    "                xytext = (0, 9), \n",
    "                textcoords = 'offset points')\n",
    "\n",
    "plt.tight_layout()\n",
    "plt.show()"
   ]
  },
  {
   "cell_type": "markdown",
   "metadata": {},
   "source": [
    "#### Observations:\n",
    "\n",
    "The model classified **17 tickets as high priority** and **4 tickets as medium priority**. The model **did not classify any tickets as low priority**. Using our dataset, the **model tends to assign mostly high priority levels for most tickets**."
   ]
  },
  {
   "cell_type": "code",
   "execution_count": 117,
   "metadata": {
    "id": "hIkoCfUJ2ntq"
   },
   "outputs": [
    {
     "data": {
      "text/plain": [
       "ETA\n",
       "Immediate            14\n",
       "24 Hours              4\n",
       "2-3 Business Days     3\n",
       "Name: count, dtype: int64"
      ]
     },
     "execution_count": 117,
     "metadata": {},
     "output_type": "execute_result"
    }
   ],
   "source": [
    "# Display value counts for unique category values in 'ETA' column in 'final_data'\n",
    "\n",
    "final_data[\"ETA\"].value_counts()"
   ]
  },
  {
   "cell_type": "code",
   "execution_count": 118,
   "metadata": {},
   "outputs": [
    {
     "data": {
      "image/png": "[encoded data removed]",
      "text/plain": [
       "<Figure size 800x600 with 1 Axes>"
      ]
     },
     "metadata": {},
     "output_type": "display_data"
    }
   ],
   "source": [
    "plt.figure(figsize=(8, 6))\n",
    "\n",
    "ax = sns.countplot(x='ETA', hue='ETA', data=final_data, edgecolor=\"black\",palette='viridis')\n",
    "\n",
    "ax.set_title('Support Ticket ETAs')\n",
    "ax.set_xlabel('ETA')\n",
    "ax.set_ylabel('')\n",
    "\n",
    "for p in ax.patches:\n",
    "    ax.annotate(format(p.get_height(), '.0f'), \n",
    "                (p.get_x() + p.get_width() / 2., p.get_height()), \n",
    "                ha = 'center', va = 'center', \n",
    "                xytext = (0, 9), \n",
    "                textcoords = 'offset points')\n",
    "\n",
    "plt.tight_layout()\n",
    "plt.show()"
   ]
  },
  {
   "cell_type": "markdown",
   "metadata": {},
   "source": [
    "#### Observations:\n",
    "\n",
    "The model assigned an **ETA of '24 Hours' to 7 tickets**, an **ETA of 'Immediate' to 13 tickets**, and an **ETA of '2-3 Business Days' to 1 ticket**. Using our dataset, the **model tends to assign extremely quick ETAs for most tickets**."
   ]
  },
  {
   "cell_type": "code",
   "execution_count": 119,
   "metadata": {},
   "outputs": [
    {
     "data": {
      "image/png": "[encoded data removed]",
      "text/plain": [
       "<Figure size 800x600 with 1 Axes>"
      ]
     },
     "metadata": {},
     "output_type": "display_data"
    }
   ],
   "source": [
    "plt.figure(figsize=(8, 6))\n",
    "\n",
    "ax = sns.countplot(x='Category', hue='ETA', data=final_data, edgecolor=\"black\",palette='viridis')\n",
    "\n",
    "ax.set_title('Support Ticket Category by ETA')\n",
    "ax.set_xlabel('Support Ticket Categories')\n",
    "ax.set_ylabel('')\n",
    "ax.legend(title='ETA')\n",
    "\n",
    "for p in ax.patches:\n",
    "    ax.annotate(format(p.get_height(), '.0f'), \n",
    "                (p.get_x() + p.get_width() / 2., p.get_height()), \n",
    "                ha = 'center', va = 'center', \n",
    "                xytext = (0, 9), \n",
    "                textcoords = 'offset points')\n",
    "\n",
    "plt.tight_layout()\n",
    "plt.show()"
   ]
  },
  {
   "cell_type": "markdown",
   "metadata": {},
   "source": [
    "#### Observations:\n",
    "\n",
    "Here, **multivariate analysis illustrates that the model classifies a vast majority of tickets as having ETAs of 24 hours or less**."
   ]
  },
  {
   "cell_type": "code",
   "execution_count": 120,
   "metadata": {},
   "outputs": [
    {
     "data": {
      "image/png": "[encoded data removed]",
      "text/plain": [
       "<Figure size 800x600 with 1 Axes>"
      ]
     },
     "metadata": {},
     "output_type": "display_data"
    }
   ],
   "source": [
    "plt.figure(figsize=(8, 6))\n",
    "\n",
    "ax = sns.countplot(x='Category', hue='Priority', data=final_data, edgecolor=\"black\",palette='viridis')\n",
    "\n",
    "ax.set_title('Support Ticket Category by Priority Level')\n",
    "ax.set_xlabel('Support Ticket Categories')\n",
    "ax.set_ylabel('')\n",
    "ax.legend(title='Priority Level')\n",
    "\n",
    "for p in ax.patches:\n",
    "    ax.annotate(format(p.get_height(), '.0f'), \n",
    "                (p.get_x() + p.get_width() / 2., p.get_height()), \n",
    "                ha = 'center', va = 'center', \n",
    "                xytext = (0, 9), \n",
    "                textcoords = 'offset points')\n",
    "\n",
    "plt.tight_layout()\n",
    "plt.show()"
   ]
  },
  {
   "cell_type": "markdown",
   "metadata": {},
   "source": [
    "#### Observations:\n",
    "\n",
    "Here, **multivariate analysis illustrates that the model classifies a vast majority of tickets as having high priority levels**."
   ]
  },
  {
   "cell_type": "markdown",
   "metadata": {
    "id": "NpevKeiDiVuJ"
   },
   "source": [
    "## **Actionable Insights and Recommendations**"
   ]
  },
  {
   "cell_type": "markdown",
   "metadata": {
    "id": "8aE2sFkQluiC"
   },
   "source": [
    "#### **Efficient Issue Categorization**\n",
    "\n",
    "* **Streamlining the Support Process**: By categorizing issues, support teams can quickly identify the nature of the problem and route it to the appropriate team or specialist.\n",
    "* **Resource Allocation**: Understanding the distribution of issues across categories helps in allocating resources more efficiently. For example, if most tickets are software-related, more software specialists can be assigned to handle these tickets.\n",
    "\n",
    "#### **Relevant Tag Extraction**\n",
    "\n",
    "* **Improving Searchability**: Tags make it easier to search and retrieve tickets based on specific keywords, improving the efficiency of support operations.\n",
    "* **Trend Analysis**: Analyzing tags over time can reveal common issues or recurring problems, allowing the business to proactively address these issues.\n",
    "\n",
    "#### **Priority Assignment**\n",
    "\n",
    "* **Prioritizing Critical Issues**: High-priority tickets can be addressed more quickly, ensuring that critical problems are resolved promptly, thereby improving customer satisfaction.\n",
    "* **Workload Management**: Understanding the priority of tickets helps in managing the workload of support teams, ensuring that urgent issues are not overlooked.\n",
    "\n",
    "#### **Estimated Time for Resolution (ETA)**\n",
    "\n",
    "* **Setting Customer Expectations**: Communicating ETAs to customers helps in setting realistic expectations about when their issue will be resolved.\n",
    "* **Performance Monitoring**: Tracking the accuracy of ETAs against actual resolution times can provide insights into the efficiency of support processes and highlight areas for improvement.\n",
    "\n",
    "#### **Draft Response Creation**\n",
    "\n",
    "* **Consistency in Communication**: Ensures that customers receive consistent and high-quality responses.\n",
    "* **Time-Saving**: Reduces the time support agents spend crafting responses, allowing them to focus on more complex issues.\n",
    "* **Improved Customer Satisfaction**: Prompt and well-structured responses enhance the customer experience, leading to higher satisfaction rates.\n",
    "\n",
    "#### **Insights Derived**\n",
    "\n",
    "* **Common Issues and Trends**: By analyzing the categories and tags, the business can identify common issues faced by customers. This can inform product development and improvements.\n",
    "* **Support Team Performance**: Tracking priorities and ETAs helps in assessing the performance of the support team and identifying areas for training and development.\n",
    "* **Customer Feedback**: Responses generated by the model can be analyzed to understand customer concerns and feedback, providing valuable insights for improving products and services.\n",
    "* **Operational Efficiency**: The streamlined process of categorizing, tagging, prioritizing, and responding to tickets enhances operational efficiency, reducing response times and improving resolution rates."
   ]
  }
 ],
 "metadata": {
  "accelerator": "GPU",
  "colab": {
   "collapsed_sections": [
    "5Bxnkoxf270y",
    "3PIXpOjx3DGc",
    "VZyyo5p53BTG",
    "DXtapml31CHh",
    "2bonUQGu23RK",
    "uTpWESc53dL9",
    "j8qUEOcQ3j5q",
    "V3YXcM8G3ljS",
    "4UO3pFis3rDj",
    "8i1EB_O-3tJp",
    "0qP5KTLo3OOC",
    "oWvf3R3An5K4",
    "V8FxB-MBen3w",
    "le80Djip27mc",
    "z795llV0elBQ",
    "bdwE7rguh8sD",
    "f7m73qRcne4g",
    "EQznlJqM2gSk",
    "NpevKeiDiVuJ"
   ],
   "gpuType": "T4",
   "provenance": []
  },
  "kernelspec": {
   "display_name": "Python (llama_env)",
   "language": "python",
   "name": "llama_env"
  },
  "language_info": {
   "codemirror_mode": {
    "name": "ipython",
    "version": 3
   },
   "file_extension": ".py",
   "mimetype": "text/x-python",
   "name": "python",
   "nbconvert_exporter": "python",
   "pygments_lexer": "ipython3",
   "version": "3.11.5"
  }
 },
 "nbformat": 4,
 "nbformat_minor": 4
}
